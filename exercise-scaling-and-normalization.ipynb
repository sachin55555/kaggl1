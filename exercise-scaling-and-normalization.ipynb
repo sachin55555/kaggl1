{
 "cells": [
  {
   "cell_type": "markdown",
   "metadata": {
    "papermill": {
     "duration": 0.021621,
     "end_time": "2020-11-25T13:38:01.864456",
     "exception": false,
     "start_time": "2020-11-25T13:38:01.842835",
     "status": "completed"
    },
    "tags": []
   },
   "source": [
    "**This notebook is an exercise in the [Data Cleaning](https://www.kaggle.com/learn/data-cleaning) course.  You can reference the tutorial at [this link](https://www.kaggle.com/alexisbcook/scaling-and-normalization).**\n",
    "\n",
    "---\n"
   ]
  },
  {
   "cell_type": "markdown",
   "metadata": {
    "papermill": {
     "duration": 0.017248,
     "end_time": "2020-11-25T13:38:01.899453",
     "exception": false,
     "start_time": "2020-11-25T13:38:01.882205",
     "status": "completed"
    },
    "tags": []
   },
   "source": [
    "In this exercise, you'll apply what you learned in the **Scaling and normalization** tutorial.\n",
    "\n",
    "# Setup\n",
    "\n",
    "The questions below will give you feedback on your work. Run the following cell to set up the feedback system."
   ]
  },
  {
   "cell_type": "code",
   "execution_count": 1,
   "metadata": {
    "execution": {
     "iopub.execute_input": "2020-11-25T13:38:01.941667Z",
     "iopub.status.busy": "2020-11-25T13:38:01.940848Z",
     "iopub.status.idle": "2020-11-25T13:38:05.440789Z",
     "shell.execute_reply": "2020-11-25T13:38:05.439662Z"
    },
    "papermill": {
     "duration": 3.523411,
     "end_time": "2020-11-25T13:38:05.440992",
     "exception": false,
     "start_time": "2020-11-25T13:38:01.917581",
     "status": "completed"
    },
    "tags": []
   },
   "outputs": [
    {
     "name": "stdout",
     "output_type": "stream",
     "text": [
      "Setup Complete\n"
     ]
    }
   ],
   "source": [
    "from learntools.core import binder\n",
    "binder.bind(globals())\n",
    "from learntools.data_cleaning.ex2 import *\n",
    "print(\"Setup Complete\")"
   ]
  },
  {
   "cell_type": "markdown",
   "metadata": {
    "papermill": {
     "duration": 0.019525,
     "end_time": "2020-11-25T13:38:05.480215",
     "exception": false,
     "start_time": "2020-11-25T13:38:05.460690",
     "status": "completed"
    },
    "tags": []
   },
   "source": [
    "# Get our environment set up\n",
    "\n",
    "To practice scaling and normalization, we're going to use a [dataset of Kickstarter campaigns](https://www.kaggle.com/kemical/kickstarter-projects). (Kickstarter is a website where people can ask people to invest in various projects and concept products.)\n",
    "\n",
    "The next code cell loads in the libraries and dataset we'll be using. "
   ]
  },
  {
   "cell_type": "code",
   "execution_count": 2,
   "metadata": {
    "execution": {
     "iopub.execute_input": "2020-11-25T13:38:05.528364Z",
     "iopub.status.busy": "2020-11-25T13:38:05.527298Z",
     "iopub.status.idle": "2020-11-25T13:38:07.181643Z",
     "shell.execute_reply": "2020-11-25T13:38:07.180974Z"
    },
    "papermill": {
     "duration": 1.680759,
     "end_time": "2020-11-25T13:38:07.181789",
     "exception": false,
     "start_time": "2020-11-25T13:38:05.501030",
     "status": "completed"
    },
    "tags": []
   },
   "outputs": [],
   "source": [
    "# modules we'll use\n",
    "import pandas as pd\n",
    "import numpy as np\n",
    "\n",
    "# for Box-Cox Transformation\n",
    "from scipy import stats\n",
    "\n",
    "# for min_max scaling\n",
    "from mlxtend.preprocessing import minmax_scaling\n",
    "\n",
    "# plotting modules\n",
    "import seaborn as sns\n",
    "import matplotlib.pyplot as plt\n",
    "\n",
    "# read in all our data\n",
    "kickstarters_2017 = pd.read_csv(\"../input/kickstarter-projects/ks-projects-201801.csv\")\n",
    "\n",
    "# set seed for reproducibility\n",
    "np.random.seed(0)"
   ]
  },
  {
   "cell_type": "markdown",
   "metadata": {
    "papermill": {
     "duration": 0.017698,
     "end_time": "2020-11-25T13:38:07.217729",
     "exception": false,
     "start_time": "2020-11-25T13:38:07.200031",
     "status": "completed"
    },
    "tags": []
   },
   "source": [
    "Let's start by scaling the goals of each campaign, which is how much money they were asking for.  The plots show a histogram of the values in the \"usd_goal_real\" column, both before and after scaling.  "
   ]
  },
  {
   "cell_type": "code",
   "execution_count": 3,
   "metadata": {
    "execution": {
     "iopub.execute_input": "2020-11-25T13:38:07.267225Z",
     "iopub.status.busy": "2020-11-25T13:38:07.266025Z",
     "iopub.status.idle": "2020-11-25T13:38:08.216198Z",
     "shell.execute_reply": "2020-11-25T13:38:08.215393Z"
    },
    "papermill": {
     "duration": 0.979995,
     "end_time": "2020-11-25T13:38:08.216347",
     "exception": false,
     "start_time": "2020-11-25T13:38:07.236352",
     "status": "completed"
    },
    "tags": []
   },
   "outputs": [
    {
     "data": {
      "text/plain": [
       "Text(0.5, 1.0, 'Scaled data')"
      ]
     },
     "execution_count": 3,
     "metadata": {},
     "output_type": "execute_result"
    },
    {
     "data": {
      "image/png": "[encoded data removed]",
      "text/plain": [
       "<Figure size 1080x216 with 2 Axes>"
      ]
     },
     "metadata": {
      "needs_background": "light"
     },
     "output_type": "display_data"
    }
   ],
   "source": [
    "# select the usd_goal_real column\n",
    "original_data = pd.DataFrame(kickstarters_2017.usd_goal_real)\n",
    "\n",
    "# scale the goals from 0 to 1\n",
    "scaled_data = minmax_scaling(original_data, columns=['usd_goal_real'])\n",
    "\n",
    "# plot the original & scaled data together to compare\n",
    "fig, ax=plt.subplots(1,2,figsize=(15,3))\n",
    "sns.distplot(kickstarters_2017.usd_goal_real, ax=ax[0])\n",
    "ax[0].set_title(\"Original Data\")\n",
    "sns.distplot(scaled_data, ax=ax[1])\n",
    "ax[1].set_title(\"Scaled data\")"
   ]
  },
  {
   "cell_type": "markdown",
   "metadata": {
    "papermill": {
     "duration": 0.021115,
     "end_time": "2020-11-25T13:38:08.256996",
     "exception": false,
     "start_time": "2020-11-25T13:38:08.235881",
     "status": "completed"
    },
    "tags": []
   },
   "source": [
    "After scaling, all values lie between 0 and 1 (you can read this in the horizontal axis of the second plot above, and we verify in the code cell below)."
   ]
  },
  {
   "cell_type": "code",
   "execution_count": 4,
   "metadata": {
    "execution": {
     "iopub.execute_input": "2020-11-25T13:38:08.310507Z",
     "iopub.status.busy": "2020-11-25T13:38:08.309639Z",
     "iopub.status.idle": "2020-11-25T13:38:08.323359Z",
     "shell.execute_reply": "2020-11-25T13:38:08.322233Z"
    },
    "papermill": {
     "duration": 0.047,
     "end_time": "2020-11-25T13:38:08.323555",
     "exception": false,
     "start_time": "2020-11-25T13:38:08.276555",
     "status": "completed"
    },
    "tags": []
   },
   "outputs": [
    {
     "name": "stdout",
     "output_type": "stream",
     "text": [
      "Original data\n",
      "Preview:\n",
      "    usd_goal_real\n",
      "0        1533.95\n",
      "1       30000.00\n",
      "2       45000.00\n",
      "3        5000.00\n",
      "4       19500.00\n",
      "Minimum value: 0.01 \n",
      "Maximum value: 166361390.71\n",
      "______________________________\n",
      "\n",
      "Scaled data\n",
      "Preview:\n",
      "    usd_goal_real\n",
      "0       0.000009\n",
      "1       0.000180\n",
      "2       0.000270\n",
      "3       0.000030\n",
      "4       0.000117\n",
      "Minimum value: 0.0 \n",
      "Maximum value: 1.0\n"
     ]
    }
   ],
   "source": [
    "print('Original data\\nPreview:\\n', original_data.head())\n",
    "print('Minimum value:', float(original_data.min()),\n",
    "      '\\nMaximum value:', float(original_data.max()))\n",
    "print('_'*30)\n",
    "\n",
    "print('\\nScaled data\\nPreview:\\n', scaled_data.head())\n",
    "print('Minimum value:', float(scaled_data.min()),\n",
    "      '\\nMaximum value:', float(scaled_data.max()))"
   ]
  },
  {
   "cell_type": "markdown",
   "metadata": {
    "papermill": {
     "duration": 0.019862,
     "end_time": "2020-11-25T13:38:08.369216",
     "exception": false,
     "start_time": "2020-11-25T13:38:08.349354",
     "status": "completed"
    },
    "tags": []
   },
   "source": [
    "# 1) Practice scaling\n",
    "\n",
    "We just scaled the \"usd_goal_real\" column. What about the \"goal\" column?\n",
    "\n",
    "Begin by running the code cell below to create a DataFrame `original_goal_data` containing the \"goal\" column."
   ]
  },
  {
   "cell_type": "code",
   "execution_count": 5,
   "metadata": {
    "execution": {
     "iopub.execute_input": "2020-11-25T13:38:08.417192Z",
     "iopub.status.busy": "2020-11-25T13:38:08.416259Z",
     "iopub.status.idle": "2020-11-25T13:38:08.420164Z",
     "shell.execute_reply": "2020-11-25T13:38:08.420784Z"
    },
    "papermill": {
     "duration": 0.031075,
     "end_time": "2020-11-25T13:38:08.420964",
     "exception": false,
     "start_time": "2020-11-25T13:38:08.389889",
     "status": "completed"
    },
    "tags": []
   },
   "outputs": [],
   "source": [
    "# select the usd_goal_real column\n",
    "original_goal_data = pd.DataFrame(kickstarters_2017.goal)"
   ]
  },
  {
   "cell_type": "markdown",
   "metadata": {
    "papermill": {
     "duration": 0.022194,
     "end_time": "2020-11-25T13:38:08.465025",
     "exception": false,
     "start_time": "2020-11-25T13:38:08.442831",
     "status": "completed"
    },
    "tags": []
   },
   "source": [
    "Use `original_goal_data` to create a new DataFrame `scaled_goal_data` with values scaled between 0 and 1. You must use the `minimax_scaling()` function."
   ]
  },
  {
   "cell_type": "code",
   "execution_count": 6,
   "metadata": {
    "execution": {
     "iopub.execute_input": "2020-11-25T13:38:08.532773Z",
     "iopub.status.busy": "2020-11-25T13:38:08.522934Z",
     "iopub.status.idle": "2020-11-25T13:38:09.075990Z",
     "shell.execute_reply": "2020-11-25T13:38:09.075068Z"
    },
    "papermill": {
     "duration": 0.585393,
     "end_time": "2020-11-25T13:38:09.076151",
     "exception": false,
     "start_time": "2020-11-25T13:38:08.490758",
     "status": "completed"
    },
    "tags": []
   },
   "outputs": [
    {
     "data": {
      "text/plain": [
       "Text(0.5, 1.0, 'Scaled data')"
      ]
     },
     "execution_count": 6,
     "metadata": {},
     "output_type": "execute_result"
    },
    {
     "data": {
      "image/png": "[encoded data removed]",
      "text/plain": [
       "<Figure size 432x288 with 2 Axes>"
      ]
     },
     "metadata": {
      "needs_background": "light"
     },
     "output_type": "display_data"
    }
   ],
   "source": [
    "# generate 1000 data points randomly drawn from an exponential distribution\n",
    "original_data = np.random.exponential(size = 1000)\n",
    "\n",
    "# mix-max scale the data between 0 and 1\n",
    "scaled_data = minmax_scaling(original_data, columns = [0])\n",
    "\n",
    "# plot both together to compare\n",
    "fig, ax=plt.subplots(1,2)\n",
    "sns.distplot(original_data, ax=ax[0])\n",
    "ax[0].set_title(\"Original Data\")\n",
    "sns.distplot(scaled_data, ax=ax[1])\n",
    "ax[1].set_title(\"Scaled data\")"
   ]
  },
  {
   "cell_type": "code",
   "execution_count": 7,
   "metadata": {
    "execution": {
     "iopub.execute_input": "2020-11-25T13:38:09.130988Z",
     "iopub.status.busy": "2020-11-25T13:38:09.129964Z",
     "iopub.status.idle": "2020-11-25T13:38:09.133714Z",
     "shell.execute_reply": "2020-11-25T13:38:09.134556Z"
    },
    "papermill": {
     "duration": 0.032492,
     "end_time": "2020-11-25T13:38:09.134750",
     "exception": false,
     "start_time": "2020-11-25T13:38:09.102258",
     "status": "completed"
    },
    "tags": []
   },
   "outputs": [],
   "source": [
    "# Lines below will give you a hint or solution code\n",
    "#q1.hint()\n",
    "#q1.solution()"
   ]
  },
  {
   "cell_type": "markdown",
   "metadata": {
    "papermill": {
     "duration": 0.022956,
     "end_time": "2020-11-25T13:38:09.182376",
     "exception": false,
     "start_time": "2020-11-25T13:38:09.159420",
     "status": "completed"
    },
    "tags": []
   },
   "source": [
    "# 2) Practice normalization\n",
    "\n",
    "Now you'll practice normalization. We begin by normalizing the amount of money pledged to each campaign."
   ]
  },
  {
   "cell_type": "code",
   "execution_count": 8,
   "metadata": {
    "execution": {
     "iopub.execute_input": "2020-11-25T13:38:09.245069Z",
     "iopub.status.busy": "2020-11-25T13:38:09.241725Z",
     "iopub.status.idle": "2020-11-25T13:38:10.849808Z",
     "shell.execute_reply": "2020-11-25T13:38:10.848957Z"
    },
    "papermill": {
     "duration": 1.643412,
     "end_time": "2020-11-25T13:38:10.849995",
     "exception": false,
     "start_time": "2020-11-25T13:38:09.206583",
     "status": "completed"
    },
    "tags": []
   },
   "outputs": [
    {
     "data": {
      "text/plain": [
       "Text(0.5, 1.0, 'Normalized data')"
      ]
     },
     "execution_count": 8,
     "metadata": {},
     "output_type": "execute_result"
    },
    {
     "data": {
      "image/png": "[encoded data removed]",
      "text/plain": [
       "<Figure size 1080x216 with 2 Axes>"
      ]
     },
     "metadata": {
      "needs_background": "light"
     },
     "output_type": "display_data"
    }
   ],
   "source": [
    "# get the index of all positive pledges (Box-Cox only takes positive values)\n",
    "index_of_positive_pledges = kickstarters_2017.usd_pledged_real > 0\n",
    "\n",
    "# get only positive pledges (using their indexes)\n",
    "positive_pledges = kickstarters_2017.usd_pledged_real.loc[index_of_positive_pledges]\n",
    "\n",
    "# normalize the pledges (w/ Box-Cox)\n",
    "normalized_pledges = pd.Series(stats.boxcox(positive_pledges)[0], \n",
    "                               name='usd_pledged_real', index=positive_pledges.index)\n",
    "\n",
    "# plot both together to compare\n",
    "fig, ax=plt.subplots(1,2,figsize=(15,3))\n",
    "sns.distplot(positive_pledges, ax=ax[0])\n",
    "ax[0].set_title(\"Original Data\")\n",
    "sns.distplot(normalized_pledges, ax=ax[1])\n",
    "ax[1].set_title(\"Normalized data\")"
   ]
  },
  {
   "cell_type": "markdown",
   "metadata": {
    "papermill": {
     "duration": 0.023985,
     "end_time": "2020-11-25T13:38:10.907294",
     "exception": false,
     "start_time": "2020-11-25T13:38:10.883309",
     "status": "completed"
    },
    "tags": []
   },
   "source": [
    "It's not perfect (it looks like a lot pledges got very few pledges) but it is much closer to a normal distribution!"
   ]
  },
  {
   "cell_type": "code",
   "execution_count": 9,
   "metadata": {
    "execution": {
     "iopub.execute_input": "2020-11-25T13:38:10.965695Z",
     "iopub.status.busy": "2020-11-25T13:38:10.964785Z",
     "iopub.status.idle": "2020-11-25T13:38:10.979138Z",
     "shell.execute_reply": "2020-11-25T13:38:10.977977Z"
    },
    "papermill": {
     "duration": 0.048369,
     "end_time": "2020-11-25T13:38:10.979373",
     "exception": false,
     "start_time": "2020-11-25T13:38:10.931004",
     "status": "completed"
    },
    "tags": []
   },
   "outputs": [
    {
     "name": "stdout",
     "output_type": "stream",
     "text": [
      "Original data\n",
      "Preview:\n",
      " 1     2421.0\n",
      "2      220.0\n",
      "3        1.0\n",
      "4     1283.0\n",
      "5    52375.0\n",
      "Name: usd_pledged_real, dtype: float64\n",
      "Minimum value: 0.45 \n",
      "Maximum value: 20338986.27\n",
      "______________________________\n",
      "\n",
      "Normalized data\n",
      "Preview:\n",
      " 1    10.165142\n",
      "2     6.468598\n",
      "3     0.000000\n",
      "4     9.129277\n",
      "5    15.836853\n",
      "Name: usd_pledged_real, dtype: float64\n",
      "Minimum value: -0.7779954122762203 \n",
      "Maximum value: 30.69054020451361\n"
     ]
    }
   ],
   "source": [
    "print('Original data\\nPreview:\\n', positive_pledges.head())\n",
    "print('Minimum value:', float(positive_pledges.min()),\n",
    "      '\\nMaximum value:', float(positive_pledges.max()))\n",
    "print('_'*30)\n",
    "\n",
    "print('\\nNormalized data\\nPreview:\\n', normalized_pledges.head())\n",
    "print('Minimum value:', float(normalized_pledges.min()),\n",
    "      '\\nMaximum value:', float(normalized_pledges.max()))"
   ]
  },
  {
   "cell_type": "markdown",
   "metadata": {
    "papermill": {
     "duration": 0.024137,
     "end_time": "2020-11-25T13:38:11.030686",
     "exception": false,
     "start_time": "2020-11-25T13:38:11.006549",
     "status": "completed"
    },
    "tags": []
   },
   "source": [
    "We used the \"usd_pledged_real\" column. Follow the same process to normalize the \"pledged\" column. "
   ]
  },
  {
   "cell_type": "code",
   "execution_count": 10,
   "metadata": {
    "execution": {
     "iopub.execute_input": "2020-11-25T13:38:11.091707Z",
     "iopub.status.busy": "2020-11-25T13:38:11.089519Z",
     "iopub.status.idle": "2020-11-25T13:38:12.515793Z",
     "shell.execute_reply": "2020-11-25T13:38:12.516475Z"
    },
    "papermill": {
     "duration": 1.461101,
     "end_time": "2020-11-25T13:38:12.516759",
     "exception": false,
     "start_time": "2020-11-25T13:38:11.055658",
     "status": "completed"
    },
    "tags": []
   },
   "outputs": [
    {
     "data": {
      "text/plain": [
       "Text(0.5, 1.0, 'Normalized data')"
      ]
     },
     "execution_count": 10,
     "metadata": {},
     "output_type": "execute_result"
    },
    {
     "data": {
      "image/png": "[encoded data removed]",
      "text/plain": [
       "<Figure size 432x288 with 2 Axes>"
      ]
     },
     "metadata": {
      "needs_background": "light"
     },
     "output_type": "display_data"
    }
   ],
   "source": [
    "# get the index of all positive pledges (Box-Cox only takes postive values)\n",
    "index_of_positive_pledges = kickstarters_2017.usd_pledged_real > 0\n",
    "\n",
    "# get only positive pledges (using their indexes)\n",
    "positive_pledges = kickstarters_2017.usd_pledged_real.loc[index_of_positive_pledges]\n",
    "\n",
    "# normalize the pledges (w/ Box-Cox)\n",
    "normalized_pledges = stats.boxcox(positive_pledges)[0]\n",
    "\n",
    "# plot both together to compare\n",
    "fig, ax=plt.subplots(1,2)\n",
    "sns.distplot(positive_pledges, ax=ax[0])\n",
    "ax[0].set_title(\"Original Data\")\n",
    "sns.distplot(normalized_pledges, ax=ax[1])\n",
    "ax[1].set_title(\"Normalized data\")\n"
   ]
  },
  {
   "cell_type": "markdown",
   "metadata": {
    "papermill": {
     "duration": 0.025936,
     "end_time": "2020-11-25T13:38:12.569366",
     "exception": false,
     "start_time": "2020-11-25T13:38:12.543430",
     "status": "completed"
    },
    "tags": []
   },
   "source": [
    "How does the normalized \"usd_pledged_real\" column look different from when we normalized the \"pledged\" column?  Or, do they look mostly the same?\n",
    "\n",
    "Once you have an answer, run the code cell below."
   ]
  },
  {
   "cell_type": "code",
   "execution_count": 11,
   "metadata": {
    "execution": {
     "iopub.execute_input": "2020-11-25T13:38:12.629208Z",
     "iopub.status.busy": "2020-11-25T13:38:12.628227Z",
     "iopub.status.idle": "2020-11-25T13:38:12.634893Z",
     "shell.execute_reply": "2020-11-25T13:38:12.634189Z"
    },
    "papermill": {
     "duration": 0.038186,
     "end_time": "2020-11-25T13:38:12.635048",
     "exception": false,
     "start_time": "2020-11-25T13:38:12.596862",
     "status": "completed"
    },
    "tags": []
   },
   "outputs": [
    {
     "data": {
      "application/javascript": [
       "parent.postMessage({\"jupyterEvent\": \"custom.exercise_interaction\", \"data\": {\"outcomeType\": 1, \"valueTowardsCompletion\": 0.3333333333333333, \"interactionType\": 1, \"questionType\": 4, \"questionId\": \"2_TryNormalization\", \"learnToolsVersion\": \"0.3.4\", \"failureMessage\": \"\", \"exceptionClass\": \"\", \"trace\": \"\"}}, \"*\")"
      ],
      "text/plain": [
       "<IPython.core.display.Javascript object>"
      ]
     },
     "metadata": {},
     "output_type": "display_data"
    },
    {
     "data": {
      "text/markdown": [
       "<span style=\"color:#33cc33\">Correct:</span> \n",
       "\n",
       "The distributions in the normalized data look mostly the same."
      ],
      "text/plain": [
       "Correct: \n",
       "\n",
       "The distributions in the normalized data look mostly the same."
      ]
     },
     "metadata": {},
     "output_type": "display_data"
    }
   ],
   "source": [
    "# Check your answer (Run this code cell to receive credit!)\n",
    "q2.check()"
   ]
  },
  {
   "cell_type": "code",
   "execution_count": 12,
   "metadata": {
    "execution": {
     "iopub.execute_input": "2020-11-25T13:38:12.696679Z",
     "iopub.status.busy": "2020-11-25T13:38:12.695571Z",
     "iopub.status.idle": "2020-11-25T13:38:12.700572Z",
     "shell.execute_reply": "2020-11-25T13:38:12.699903Z"
    },
    "papermill": {
     "duration": 0.037605,
     "end_time": "2020-11-25T13:38:12.700721",
     "exception": false,
     "start_time": "2020-11-25T13:38:12.663116",
     "status": "completed"
    },
    "tags": []
   },
   "outputs": [],
   "source": [
    "# Line below will give you a hint\n",
    "#q2.hint()\n"
   ]
  },
  {
   "cell_type": "markdown",
   "metadata": {
    "papermill": {
     "duration": 0.030005,
     "end_time": "2020-11-25T13:38:12.760800",
     "exception": false,
     "start_time": "2020-11-25T13:38:12.730795",
     "status": "completed"
    },
    "tags": []
   },
   "source": [
    "# (Optional) More practice\n",
    "\n",
    "Try finding a new dataset and pretend you're preparing to perform a [regression analysis](https://www.kaggle.com/rtatman/the-5-day-regression-challenge). \n",
    "\n",
    "[These datasets are a good start!](https://www.kaggle.com/rtatman/datasets-for-regression-analysis)\n",
    "\n",
    "Pick three or four variables and decide if you need to normalize or scale any of them and, if you think you should, practice applying the correct technique.\n",
    "\n",
    "# Keep going\n",
    "\n",
    "In the next lesson, learn how to [**parse dates**](https://www.kaggle.com/alexisbcook/parsing-dates) in a dataset."
   ]
  },
  {
   "cell_type": "markdown",
   "metadata": {
    "papermill": {
     "duration": 0.029548,
     "end_time": "2020-11-25T13:38:12.821975",
     "exception": false,
     "start_time": "2020-11-25T13:38:12.792427",
     "status": "completed"
    },
    "tags": []
   },
   "source": [
    "---\n",
    "\n",
    "\n",
    "\n",
    "\n",
    "*Have questions or comments? Visit the [Learn Discussion forum](https://www.kaggle.com/learn-forum/172650) to chat with other Learners.*"
   ]
  }
 ],
 "metadata": {
  "kernelspec": {
   "display_name": "Python 3",
   "language": "python",
   "name": "python3"
  },
  "language_info": {
   "codemirror_mode": {
    "name": "ipython",
    "version": 3
   },
   "file_extension": ".py",
   "mimetype": "text/x-python",
   "name": "python",
   "nbconvert_exporter": "python",
   "pygments_lexer": "ipython3",
   "version": "3.7.6"
  },
  "papermill": {
   "duration": 16.922024,
   "end_time": "2020-11-25T13:38:12.962072",
   "environment_variables": {},
   "exception": null,
   "input_path": "__notebook__.ipynb",
   "output_path": "__notebook__.ipynb",
   "parameters": {},
   "start_time": "2020-11-25T13:37:56.040048",
   "version": "2.1.0"
  }
 },
 "nbformat": 4,
 "nbformat_minor": 4
}
