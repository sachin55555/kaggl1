{
 "cells": [
  {
   "cell_type": "markdown",
   "metadata": {
    "papermill": {
     "duration": 0.018849,
     "end_time": "2020-11-25T17:42:25.365369",
     "exception": false,
     "start_time": "2020-11-25T17:42:25.346520",
     "status": "completed"
    },
    "tags": []
   },
   "source": [
    "**This notebook is an exercise in the [Data Cleaning](https://www.kaggle.com/learn/data-cleaning) course.  You can reference the tutorial at [this link](https://www.kaggle.com/alexisbcook/inconsistent-data-entry).**\n",
    "\n",
    "---\n"
   ]
  },
  {
   "cell_type": "markdown",
   "metadata": {
    "papermill": {
     "duration": 0.015082,
     "end_time": "2020-11-25T17:42:25.396013",
     "exception": false,
     "start_time": "2020-11-25T17:42:25.380931",
     "status": "completed"
    },
    "tags": []
   },
   "source": [
    "In this exercise, you'll apply what you learned in the **Inconsistent data entry** tutorial.\n",
    "\n",
    "# Setup\n",
    "\n",
    "The questions below will give you feedback on your work. Run the following cell to set up the feedback system."
   ]
  },
  {
   "cell_type": "code",
   "execution_count": 1,
   "metadata": {
    "execution": {
     "iopub.execute_input": "2020-11-25T17:42:25.432887Z",
     "iopub.status.busy": "2020-11-25T17:42:25.432112Z",
     "iopub.status.idle": "2020-11-25T17:42:25.542073Z",
     "shell.execute_reply": "2020-11-25T17:42:25.541270Z"
    },
    "papermill": {
     "duration": 0.130998,
     "end_time": "2020-11-25T17:42:25.542254",
     "exception": false,
     "start_time": "2020-11-25T17:42:25.411256",
     "status": "completed"
    },
    "tags": []
   },
   "outputs": [
    {
     "name": "stdout",
     "output_type": "stream",
     "text": [
      "Setup Complete\n"
     ]
    }
   ],
   "source": [
    "from learntools.core import binder\n",
    "binder.bind(globals())\n",
    "from learntools.data_cleaning.ex5 import *\n",
    "print(\"Setup Complete\")"
   ]
  },
  {
   "cell_type": "markdown",
   "metadata": {
    "papermill": {
     "duration": 0.01555,
     "end_time": "2020-11-25T17:42:25.575006",
     "exception": false,
     "start_time": "2020-11-25T17:42:25.559456",
     "status": "completed"
    },
    "tags": []
   },
   "source": [
    "# Get our environment set up\n",
    "\n",
    "The first thing we'll need to do is load in the libraries and dataset we'll be using.  We use the same dataset from the tutorial."
   ]
  },
  {
   "cell_type": "code",
   "execution_count": 2,
   "metadata": {
    "execution": {
     "iopub.execute_input": "2020-11-25T17:42:25.614331Z",
     "iopub.status.busy": "2020-11-25T17:42:25.613586Z",
     "iopub.status.idle": "2020-11-25T17:42:25.627323Z",
     "shell.execute_reply": "2020-11-25T17:42:25.626699Z"
    },
    "papermill": {
     "duration": 0.036583,
     "end_time": "2020-11-25T17:42:25.627455",
     "exception": false,
     "start_time": "2020-11-25T17:42:25.590872",
     "status": "completed"
    },
    "tags": []
   },
   "outputs": [],
   "source": [
    "# modules we'll use\n",
    "import pandas as pd\n",
    "import numpy as np\n",
    "\n",
    "# helpful modules\n",
    "import fuzzywuzzy\n",
    "from fuzzywuzzy import process\n",
    "import chardet\n",
    "\n",
    "# read in all our data\n",
    "professors = pd.read_csv(\"../input/pakistan-intellectual-capital/pakistan_intellectual_capital.csv\")\n",
    "\n",
    "# set seed for reproducibility\n",
    "np.random.seed(0)"
   ]
  },
  {
   "cell_type": "markdown",
   "metadata": {
    "papermill": {
     "duration": 0.015512,
     "end_time": "2020-11-25T17:42:25.658975",
     "exception": false,
     "start_time": "2020-11-25T17:42:25.643463",
     "status": "completed"
    },
    "tags": []
   },
   "source": [
    "Next, we'll redo all of the work that we did in the tutorial."
   ]
  },
  {
   "cell_type": "code",
   "execution_count": 3,
   "metadata": {
    "execution": {
     "iopub.execute_input": "2020-11-25T17:42:25.710986Z",
     "iopub.status.busy": "2020-11-25T17:42:25.709960Z",
     "iopub.status.idle": "2020-11-25T17:42:25.714473Z",
     "shell.execute_reply": "2020-11-25T17:42:25.713871Z"
    },
    "papermill": {
     "duration": 0.039768,
     "end_time": "2020-11-25T17:42:25.714598",
     "exception": false,
     "start_time": "2020-11-25T17:42:25.674830",
     "status": "completed"
    },
    "tags": []
   },
   "outputs": [
    {
     "name": "stdout",
     "output_type": "stream",
     "text": [
      "All done!\n"
     ]
    }
   ],
   "source": [
    "# convert to lower case\n",
    "professors['Country'] = professors['Country'].str.lower()\n",
    "# remove trailing white spaces\n",
    "professors['Country'] = professors['Country'].str.strip()\n",
    "\n",
    "# get the top 10 closest matches to \"south korea\"\n",
    "countries = professors['Country'].unique()\n",
    "matches = fuzzywuzzy.process.extract(\"south korea\", countries, limit=10, scorer=fuzzywuzzy.fuzz.token_sort_ratio)\n",
    "\n",
    "def replace_matches_in_column(df, column, string_to_match, min_ratio = 47):\n",
    "    # get a list of unique strings\n",
    "    strings = df[column].unique()\n",
    "    \n",
    "    # get the top 10 closest matches to our input string\n",
    "    matches = fuzzywuzzy.process.extract(string_to_match, strings, \n",
    "                                         limit=10, scorer=fuzzywuzzy.fuzz.token_sort_ratio)\n",
    "\n",
    "    # only get matches with a ratio > 90\n",
    "    close_matches = [matches[0] for matches in matches if matches[1] >= min_ratio]\n",
    "\n",
    "    # get the rows of all the close matches in our dataframe\n",
    "    rows_with_matches = df[column].isin(close_matches)\n",
    "\n",
    "    # replace all rows with close matches with the input matches \n",
    "    df.loc[rows_with_matches, column] = string_to_match\n",
    "    \n",
    "    # let us know the function's done\n",
    "    print(\"All done!\")\n",
    "    \n",
    "replace_matches_in_column(df=professors, column='Country', string_to_match=\"south korea\")\n",
    "countries = professors['Country'].unique()"
   ]
  },
  {
   "cell_type": "markdown",
   "metadata": {
    "papermill": {
     "duration": 0.016291,
     "end_time": "2020-11-25T17:42:25.747494",
     "exception": false,
     "start_time": "2020-11-25T17:42:25.731203",
     "status": "completed"
    },
    "tags": []
   },
   "source": [
    "# 1) Examine another column\n",
    "\n",
    "Write code below to take a look at all the unique values in the \"Graduated from\" column."
   ]
  },
  {
   "cell_type": "code",
   "execution_count": 4,
   "metadata": {
    "execution": {
     "iopub.execute_input": "2020-11-25T17:42:25.786074Z",
     "iopub.status.busy": "2020-11-25T17:42:25.785127Z",
     "iopub.status.idle": "2020-11-25T17:42:25.787732Z",
     "shell.execute_reply": "2020-11-25T17:42:25.788331Z"
    },
    "papermill": {
     "duration": 0.024416,
     "end_time": "2020-11-25T17:42:25.788479",
     "exception": false,
     "start_time": "2020-11-25T17:42:25.764063",
     "status": "completed"
    },
    "tags": []
   },
   "outputs": [],
   "source": [
    "# TODO: Your code here"
   ]
  },
  {
   "cell_type": "markdown",
   "metadata": {
    "papermill": {
     "duration": 0.016296,
     "end_time": "2020-11-25T17:42:25.821637",
     "exception": false,
     "start_time": "2020-11-25T17:42:25.805341",
     "status": "completed"
    },
    "tags": []
   },
   "source": [
    "Do you notice any inconsistencies in the data?  Can any of the inconsistencies in the data be fixed by removing white spaces at the beginning and end of cells?\n",
    "\n",
    "Once you have answered these questions, run the code cell below to get credit for your work."
   ]
  },
  {
   "cell_type": "code",
   "execution_count": 5,
   "metadata": {
    "execution": {
     "iopub.execute_input": "2020-11-25T17:42:25.862092Z",
     "iopub.status.busy": "2020-11-25T17:42:25.861357Z",
     "iopub.status.idle": "2020-11-25T17:42:25.868117Z",
     "shell.execute_reply": "2020-11-25T17:42:25.867418Z"
    },
    "papermill": {
     "duration": 0.029941,
     "end_time": "2020-11-25T17:42:25.868249",
     "exception": false,
     "start_time": "2020-11-25T17:42:25.838308",
     "status": "completed"
    },
    "tags": []
   },
   "outputs": [
    {
     "data": {
      "application/javascript": [
       "parent.postMessage({\"jupyterEvent\": \"custom.exercise_interaction\", \"data\": {\"outcomeType\": 1, \"valueTowardsCompletion\": 0.3333333333333333, \"interactionType\": 1, \"questionType\": 4, \"questionId\": \"1_ExamineProvince\", \"learnToolsVersion\": \"0.3.4\", \"failureMessage\": \"\", \"exceptionClass\": \"\", \"trace\": \"\"}}, \"*\")"
      ],
      "text/plain": [
       "<IPython.core.display.Javascript object>"
      ]
     },
     "metadata": {},
     "output_type": "display_data"
    },
    {
     "data": {
      "text/markdown": [
       "<span style=\"color:#33cc33\">Correct:</span> \n",
       "\n",
       "There are inconsistencies that can be fixed by removing white spaces at the beginning and end of cells.  For instance, \"University of Central Florida\" and \" University of Central Florida\" both appear in the column."
      ],
      "text/plain": [
       "Correct: \n",
       "\n",
       "There are inconsistencies that can be fixed by removing white spaces at the beginning and end of cells.  For instance, \"University of Central Florida\" and \" University of Central Florida\" both appear in the column."
      ]
     },
     "metadata": {},
     "output_type": "display_data"
    }
   ],
   "source": [
    "# Check your answer (Run this code cell to receive credit!)\n",
    "q1.check()"
   ]
  },
  {
   "cell_type": "code",
   "execution_count": 6,
   "metadata": {
    "execution": {
     "iopub.execute_input": "2020-11-25T17:42:25.909638Z",
     "iopub.status.busy": "2020-11-25T17:42:25.908666Z",
     "iopub.status.idle": "2020-11-25T17:42:25.911553Z",
     "shell.execute_reply": "2020-11-25T17:42:25.910834Z"
    },
    "papermill": {
     "duration": 0.025266,
     "end_time": "2020-11-25T17:42:25.911672",
     "exception": false,
     "start_time": "2020-11-25T17:42:25.886406",
     "status": "completed"
    },
    "tags": []
   },
   "outputs": [],
   "source": [
    "# Line below will give you a hint\n",
    "#q1.hint()"
   ]
  },
  {
   "cell_type": "markdown",
   "metadata": {
    "papermill": {
     "duration": 0.018189,
     "end_time": "2020-11-25T17:42:25.948671",
     "exception": false,
     "start_time": "2020-11-25T17:42:25.930482",
     "status": "completed"
    },
    "tags": []
   },
   "source": [
    "# 2) Do some text pre-processing\n",
    "\n",
    "Convert every entry in the \"Graduated from\" column in the `professors` DataFrame to remove white spaces at the beginning and end of cells."
   ]
  },
  {
   "cell_type": "code",
   "execution_count": 7,
   "metadata": {
    "execution": {
     "iopub.execute_input": "2020-11-25T17:42:25.993051Z",
     "iopub.status.busy": "2020-11-25T17:42:25.992130Z",
     "iopub.status.idle": "2020-11-25T17:42:25.998548Z",
     "shell.execute_reply": "2020-11-25T17:42:25.997802Z"
    },
    "papermill": {
     "duration": 0.031389,
     "end_time": "2020-11-25T17:42:25.998670",
     "exception": false,
     "start_time": "2020-11-25T17:42:25.967281",
     "status": "completed"
    },
    "tags": []
   },
   "outputs": [
    {
     "data": {
      "application/javascript": [
       "parent.postMessage({\"jupyterEvent\": \"custom.exercise_interaction\", \"data\": {\"outcomeType\": 2, \"failureMessage\": \"Incorrect value for `professors`\", \"interactionType\": 1, \"questionType\": 1, \"questionId\": \"2_TextProcessing\", \"learnToolsVersion\": \"0.3.4\", \"valueTowardsCompletion\": 0.0, \"exceptionClass\": \"\", \"trace\": \"\"}}, \"*\")"
      ],
      "text/plain": [
       "<IPython.core.display.Javascript object>"
      ]
     },
     "metadata": {},
     "output_type": "display_data"
    },
    {
     "data": {
      "text/markdown": [
       "<span style=\"color:#cc3333\">Incorrect:</span> Incorrect value for `professors`"
      ],
      "text/plain": [
       "Incorrect: Incorrect value for `professors`"
      ]
     },
     "metadata": {},
     "output_type": "display_data"
    }
   ],
   "source": [
    "# TODO: Your code here\n",
    "____\n",
    "\n",
    "# Check your answer\n",
    "q2.check()"
   ]
  },
  {
   "cell_type": "code",
   "execution_count": 8,
   "metadata": {
    "execution": {
     "iopub.execute_input": "2020-11-25T17:42:26.047388Z",
     "iopub.status.busy": "2020-11-25T17:42:26.046412Z",
     "iopub.status.idle": "2020-11-25T17:42:26.048920Z",
     "shell.execute_reply": "2020-11-25T17:42:26.049492Z"
    },
    "papermill": {
     "duration": 0.030521,
     "end_time": "2020-11-25T17:42:26.049652",
     "exception": false,
     "start_time": "2020-11-25T17:42:26.019131",
     "status": "completed"
    },
    "tags": []
   },
   "outputs": [],
   "source": [
    "# Lines below will give you a hint or solution code\n",
    "#q2.hint()\n",
    "#q2.solution()"
   ]
  },
  {
   "cell_type": "markdown",
   "metadata": {
    "papermill": {
     "duration": 0.019878,
     "end_time": "2020-11-25T17:42:26.090012",
     "exception": false,
     "start_time": "2020-11-25T17:42:26.070134",
     "status": "completed"
    },
    "tags": []
   },
   "source": [
    "# 3) Continue working with countries\n",
    "\n",
    "In the tutorial, we focused on cleaning up inconsistencies in the \"Country\" column.  Run the code cell below to view the list of unique values that we ended with."
   ]
  },
  {
   "cell_type": "code",
   "execution_count": 9,
   "metadata": {
    "execution": {
     "iopub.execute_input": "2020-11-25T17:42:26.137148Z",
     "iopub.status.busy": "2020-11-25T17:42:26.136153Z",
     "iopub.status.idle": "2020-11-25T17:42:26.141337Z",
     "shell.execute_reply": "2020-11-25T17:42:26.140720Z"
    },
    "papermill": {
     "duration": 0.031323,
     "end_time": "2020-11-25T17:42:26.141457",
     "exception": false,
     "start_time": "2020-11-25T17:42:26.110134",
     "status": "completed"
    },
    "tags": []
   },
   "outputs": [
    {
     "data": {
      "text/plain": [
       "array(['australia', 'austria', 'canada', 'china', 'finland', 'france',\n",
       "       'germany', 'greece', 'hongkong', 'ireland', 'italy', 'japan',\n",
       "       'macau', 'malaysia', 'mauritius', 'netherland', 'new zealand',\n",
       "       'norway', 'pakistan', 'portugal', 'russian federation',\n",
       "       'saudi arabia', 'scotland', 'singapore', 'south korea', 'spain',\n",
       "       'sweden', 'thailand', 'turkey', 'uk', 'urbana', 'usa', 'usofa'],\n",
       "      dtype=object)"
      ]
     },
     "execution_count": 9,
     "metadata": {},
     "output_type": "execute_result"
    }
   ],
   "source": [
    "# get all the unique values in the 'City' column\n",
    "countries = professors['Country'].unique()\n",
    "\n",
    "# sort them alphabetically and then take a closer look\n",
    "countries.sort()\n",
    "countries"
   ]
  },
  {
   "cell_type": "markdown",
   "metadata": {
    "papermill": {
     "duration": 0.020166,
     "end_time": "2020-11-25T17:42:26.182465",
     "exception": false,
     "start_time": "2020-11-25T17:42:26.162299",
     "status": "completed"
    },
    "tags": []
   },
   "source": [
    "Take another look at the \"Country\" column and see if there's any more data cleaning we need to do.\n",
    "\n",
    "It looks like 'usa' and 'usofa' should be the same country.  Correct the \"Country\" column in the dataframe so that 'usofa' appears instead as 'usa'.\n",
    "\n",
    "**Use the most recent version of the DataFrame (with the whitespaces at the beginning and end of cells removed) from question 2.**"
   ]
  },
  {
   "cell_type": "code",
   "execution_count": 10,
   "metadata": {
    "execution": {
     "iopub.execute_input": "2020-11-25T17:42:26.231140Z",
     "iopub.status.busy": "2020-11-25T17:42:26.230132Z",
     "iopub.status.idle": "2020-11-25T17:42:26.236857Z",
     "shell.execute_reply": "2020-11-25T17:42:26.236053Z"
    },
    "papermill": {
     "duration": 0.033996,
     "end_time": "2020-11-25T17:42:26.236985",
     "exception": false,
     "start_time": "2020-11-25T17:42:26.202989",
     "status": "completed"
    },
    "tags": []
   },
   "outputs": [
    {
     "data": {
      "application/javascript": [
       "parent.postMessage({\"jupyterEvent\": \"custom.exercise_interaction\", \"data\": {\"outcomeType\": 2, \"failureMessage\": \"Incorrect value for `professors`\", \"interactionType\": 1, \"questionType\": 1, \"questionId\": \"3_WorkingWithCities\", \"learnToolsVersion\": \"0.3.4\", \"valueTowardsCompletion\": 0.0, \"exceptionClass\": \"\", \"trace\": \"\"}}, \"*\")"
      ],
      "text/plain": [
       "<IPython.core.display.Javascript object>"
      ]
     },
     "metadata": {},
     "output_type": "display_data"
    },
    {
     "data": {
      "text/markdown": [
       "<span style=\"color:#cc3333\">Incorrect:</span> Incorrect value for `professors`"
      ],
      "text/plain": [
       "Incorrect: Incorrect value for `professors`"
      ]
     },
     "metadata": {},
     "output_type": "display_data"
    }
   ],
   "source": [
    "# TODO: Your code here!\n",
    "____\n",
    "\n",
    "# Check your answer\n",
    "q3.check()"
   ]
  },
  {
   "cell_type": "code",
   "execution_count": 11,
   "metadata": {
    "execution": {
     "iopub.execute_input": "2020-11-25T17:42:26.286316Z",
     "iopub.status.busy": "2020-11-25T17:42:26.285405Z",
     "iopub.status.idle": "2020-11-25T17:42:26.288527Z",
     "shell.execute_reply": "2020-11-25T17:42:26.287863Z"
    },
    "papermill": {
     "duration": 0.029375,
     "end_time": "2020-11-25T17:42:26.288656",
     "exception": false,
     "start_time": "2020-11-25T17:42:26.259281",
     "status": "completed"
    },
    "tags": []
   },
   "outputs": [],
   "source": [
    "# Lines below will give you a hint or solution code\n",
    "#q3.hint()\n",
    "#q3.solution()"
   ]
  },
  {
   "cell_type": "markdown",
   "metadata": {
    "papermill": {
     "duration": 0.021979,
     "end_time": "2020-11-25T17:42:26.333104",
     "exception": false,
     "start_time": "2020-11-25T17:42:26.311125",
     "status": "completed"
    },
    "tags": []
   },
   "source": [
    "# Congratulations!\n",
    "\n",
    "Congratulations for completing the **Data Cleaning** course on Kaggle Learn!\n",
    "\n",
    "To practice your new skills, you're encouraged to download and investigate some of [Kaggle's Datasets](https://www.kaggle.com/datasets)."
   ]
  },
  {
   "cell_type": "markdown",
   "metadata": {
    "papermill": {
     "duration": 0.022617,
     "end_time": "2020-11-25T17:42:26.378177",
     "exception": false,
     "start_time": "2020-11-25T17:42:26.355560",
     "status": "completed"
    },
    "tags": []
   },
   "source": [
    "---\n",
    "\n",
    "\n",
    "\n",
    "\n",
    "*Have questions or comments? Visit the [Learn Discussion forum](https://www.kaggle.com/learn-forum/172650) to chat with other Learners.*"
   ]
  }
 ],
 "metadata": {
  "kernelspec": {
   "display_name": "Python 3",
   "language": "python",
   "name": "python3"
  },
  "language_info": {
   "codemirror_mode": {
    "name": "ipython",
    "version": 3
   },
   "file_extension": ".py",
   "mimetype": "text/x-python",
   "name": "python",
   "nbconvert_exporter": "python",
   "pygments_lexer": "ipython3",
   "version": "3.7.6"
  },
  "papermill": {
   "duration": 6.116808,
   "end_time": "2020-11-25T17:42:26.507888",
   "environment_variables": {},
   "exception": null,
   "input_path": "__notebook__.ipynb",
   "output_path": "__notebook__.ipynb",
   "parameters": {},
   "start_time": "2020-11-25T17:42:20.391080",
   "version": "2.1.0"
  }
 },
 "nbformat": 4,
 "nbformat_minor": 4
}
