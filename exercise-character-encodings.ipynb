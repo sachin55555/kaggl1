{
 "cells": [
  {
   "cell_type": "markdown",
   "metadata": {
    "papermill": {
     "duration": 0.017292,
     "end_time": "2020-11-25T17:40:44.589657",
     "exception": false,
     "start_time": "2020-11-25T17:40:44.572365",
     "status": "completed"
    },
    "tags": []
   },
   "source": [
    "**This notebook is an exercise in the [Data Cleaning](https://www.kaggle.com/learn/data-cleaning) course.  You can reference the tutorial at [this link](https://www.kaggle.com/alexisbcook/character-encodings).**\n",
    "\n",
    "---\n"
   ]
  },
  {
   "cell_type": "markdown",
   "metadata": {
    "papermill": {
     "duration": 0.013497,
     "end_time": "2020-11-25T17:40:44.617288",
     "exception": false,
     "start_time": "2020-11-25T17:40:44.603791",
     "status": "completed"
    },
    "tags": []
   },
   "source": [
    "In this exercise, you'll apply what you learned in the **Character encodings** tutorial.\n",
    "\n",
    "# Setup\n",
    "\n",
    "The questions below will give you feedback on your work. Run the following cell to set up the feedback system."
   ]
  },
  {
   "cell_type": "code",
   "execution_count": 1,
   "metadata": {
    "execution": {
     "iopub.execute_input": "2020-11-25T17:40:44.655591Z",
     "iopub.status.busy": "2020-11-25T17:40:44.654755Z",
     "iopub.status.idle": "2020-11-25T17:40:44.744371Z",
     "shell.execute_reply": "2020-11-25T17:40:44.744991Z"
    },
    "papermill": {
     "duration": 0.11378,
     "end_time": "2020-11-25T17:40:44.745180",
     "exception": false,
     "start_time": "2020-11-25T17:40:44.631400",
     "status": "completed"
    },
    "tags": []
   },
   "outputs": [
    {
     "name": "stdout",
     "output_type": "stream",
     "text": [
      "Setup Complete\n"
     ]
    }
   ],
   "source": [
    "from learntools.core import binder\n",
    "binder.bind(globals())\n",
    "from learntools.data_cleaning.ex4 import *\n",
    "print(\"Setup Complete\")"
   ]
  },
  {
   "cell_type": "markdown",
   "metadata": {
    "papermill": {
     "duration": 0.014306,
     "end_time": "2020-11-25T17:40:44.774769",
     "exception": false,
     "start_time": "2020-11-25T17:40:44.760463",
     "status": "completed"
    },
    "tags": []
   },
   "source": [
    "# Get our environment set up\n",
    "\n",
    "The first thing we'll need to do is load in the libraries we'll be using."
   ]
  },
  {
   "cell_type": "code",
   "execution_count": 2,
   "metadata": {
    "execution": {
     "iopub.execute_input": "2020-11-25T17:40:44.810300Z",
     "iopub.status.busy": "2020-11-25T17:40:44.809563Z",
     "iopub.status.idle": "2020-11-25T17:40:44.812158Z",
     "shell.execute_reply": "2020-11-25T17:40:44.812769Z"
    },
    "papermill": {
     "duration": 0.023429,
     "end_time": "2020-11-25T17:40:44.812940",
     "exception": false,
     "start_time": "2020-11-25T17:40:44.789511",
     "status": "completed"
    },
    "tags": []
   },
   "outputs": [],
   "source": [
    "# modules we'll use\n",
    "import pandas as pd\n",
    "import numpy as np\n",
    "\n",
    "# helpful character encoding module\n",
    "import chardet\n",
    "\n",
    "# set seed for reproducibility\n",
    "np.random.seed(0)"
   ]
  },
  {
   "cell_type": "markdown",
   "metadata": {
    "papermill": {
     "duration": 0.014692,
     "end_time": "2020-11-25T17:40:44.842706",
     "exception": false,
     "start_time": "2020-11-25T17:40:44.828014",
     "status": "completed"
    },
    "tags": []
   },
   "source": [
    "# 1) What are encodings?\n",
    "\n",
    "You're working with a dataset composed of bytes.  Run the code cell below to print a sample entry."
   ]
  },
  {
   "cell_type": "code",
   "execution_count": 3,
   "metadata": {
    "execution": {
     "iopub.execute_input": "2020-11-25T17:40:44.879011Z",
     "iopub.status.busy": "2020-11-25T17:40:44.877975Z",
     "iopub.status.idle": "2020-11-25T17:40:44.881631Z",
     "shell.execute_reply": "2020-11-25T17:40:44.882215Z"
    },
    "papermill": {
     "duration": 0.0247,
     "end_time": "2020-11-25T17:40:44.882367",
     "exception": false,
     "start_time": "2020-11-25T17:40:44.857667",
     "status": "completed"
    },
    "tags": []
   },
   "outputs": [
    {
     "name": "stdout",
     "output_type": "stream",
     "text": [
      "b'\\xa7A\\xa6n'\n",
      "data type: <class 'bytes'>\n"
     ]
    }
   ],
   "source": [
    "sample_entry = b'\\xa7A\\xa6n'\n",
    "print(sample_entry)\n",
    "print('data type:', type(sample_entry))"
   ]
  },
  {
   "cell_type": "markdown",
   "metadata": {
    "papermill": {
     "duration": 0.01511,
     "end_time": "2020-11-25T17:40:44.913104",
     "exception": false,
     "start_time": "2020-11-25T17:40:44.897994",
     "status": "completed"
    },
    "tags": []
   },
   "source": [
    "You notice that it doesn't use the standard UTF-8 encoding. \n",
    "\n",
    "Use the next code cell to create a variable `new_entry` that changes the encoding from `\"big5-tw\"` to `\"utf-8\"`.  `new_entry` should have the bytes datatype."
   ]
  },
  {
   "cell_type": "code",
   "execution_count": 4,
   "metadata": {
    "execution": {
     "iopub.execute_input": "2020-11-25T17:40:44.952323Z",
     "iopub.status.busy": "2020-11-25T17:40:44.951239Z",
     "iopub.status.idle": "2020-11-25T17:40:44.957050Z",
     "shell.execute_reply": "2020-11-25T17:40:44.957627Z"
    },
    "papermill": {
     "duration": 0.029092,
     "end_time": "2020-11-25T17:40:44.957796",
     "exception": false,
     "start_time": "2020-11-25T17:40:44.928704",
     "status": "completed"
    },
    "tags": []
   },
   "outputs": [
    {
     "data": {
      "application/javascript": [
       "parent.postMessage({\"jupyterEvent\": \"custom.exercise_interaction\", \"data\": {\"outcomeType\": 4, \"interactionType\": 1, \"questionType\": 1, \"questionId\": \"1_EncodingsIntro\", \"learnToolsVersion\": \"0.3.4\", \"valueTowardsCompletion\": 0.0, \"failureMessage\": \"\", \"exceptionClass\": \"\", \"trace\": \"\"}}, \"*\")"
      ],
      "text/plain": [
       "<IPython.core.display.Javascript object>"
      ]
     },
     "metadata": {},
     "output_type": "display_data"
    },
    {
     "data": {
      "text/markdown": [
       "<span style=\"color:#ccaa33\">Check:</span> When you've updated the starter code, `check()` will tell you whether your code is correct. You need to update the code that creates variable `new_entry`"
      ],
      "text/plain": [
       "Check: When you've updated the starter code, `check()` will tell you whether your code is correct. You need to update the code that creates variable `new_entry`"
      ]
     },
     "metadata": {},
     "output_type": "display_data"
    }
   ],
   "source": [
    "new_entry = ____\n",
    "\n",
    "# Check your answer\n",
    "q1.check()"
   ]
  },
  {
   "cell_type": "code",
   "execution_count": 5,
   "metadata": {
    "execution": {
     "iopub.execute_input": "2020-11-25T17:40:44.998328Z",
     "iopub.status.busy": "2020-11-25T17:40:44.997295Z",
     "iopub.status.idle": "2020-11-25T17:40:45.000653Z",
     "shell.execute_reply": "2020-11-25T17:40:44.999786Z"
    },
    "papermill": {
     "duration": 0.025466,
     "end_time": "2020-11-25T17:40:45.000800",
     "exception": false,
     "start_time": "2020-11-25T17:40:44.975334",
     "status": "completed"
    },
    "tags": []
   },
   "outputs": [],
   "source": [
    "# Lines below will give you a hint or solution code\n",
    "#q1.hint()\n",
    "#q1.solution()"
   ]
  },
  {
   "cell_type": "markdown",
   "metadata": {
    "papermill": {
     "duration": 0.016718,
     "end_time": "2020-11-25T17:40:45.034699",
     "exception": false,
     "start_time": "2020-11-25T17:40:45.017981",
     "status": "completed"
    },
    "tags": []
   },
   "source": [
    "# 2) Reading in files with encoding problems\n",
    "\n",
    "Use the code cell below to read in this file at path `\"../input/fatal-police-shootings-in-the-us/PoliceKillingsUS.csv\"`.  \n",
    "\n",
    "Figure out what the correct encoding should be and read in the file to a DataFrame `police_killings`."
   ]
  },
  {
   "cell_type": "code",
   "execution_count": 6,
   "metadata": {
    "execution": {
     "iopub.execute_input": "2020-11-25T17:40:45.075435Z",
     "iopub.status.busy": "2020-11-25T17:40:45.074343Z",
     "iopub.status.idle": "2020-11-25T17:40:45.081243Z",
     "shell.execute_reply": "2020-11-25T17:40:45.080469Z"
    },
    "papermill": {
     "duration": 0.029448,
     "end_time": "2020-11-25T17:40:45.081368",
     "exception": false,
     "start_time": "2020-11-25T17:40:45.051920",
     "status": "completed"
    },
    "tags": []
   },
   "outputs": [
    {
     "data": {
      "application/javascript": [
       "parent.postMessage({\"jupyterEvent\": \"custom.exercise_interaction\", \"data\": {\"outcomeType\": 4, \"interactionType\": 1, \"questionType\": 1, \"questionId\": \"2_ReadIn\", \"learnToolsVersion\": \"0.3.4\", \"valueTowardsCompletion\": 0.0, \"failureMessage\": \"\", \"exceptionClass\": \"\", \"trace\": \"\"}}, \"*\")"
      ],
      "text/plain": [
       "<IPython.core.display.Javascript object>"
      ]
     },
     "metadata": {},
     "output_type": "display_data"
    },
    {
     "data": {
      "text/markdown": [
       "<span style=\"color:#ccaa33\">Check:</span> When you've updated the starter code, `check()` will tell you whether your code is correct. You need to update the code that creates variable `police_killings`"
      ],
      "text/plain": [
       "Check: When you've updated the starter code, `check()` will tell you whether your code is correct. You need to update the code that creates variable `police_killings`"
      ]
     },
     "metadata": {},
     "output_type": "display_data"
    }
   ],
   "source": [
    "# TODO: Load in the DataFrame correctly.\n",
    "police_killings = ____\n",
    "\n",
    "# Check your answer\n",
    "q2.check()"
   ]
  },
  {
   "cell_type": "markdown",
   "metadata": {
    "papermill": {
     "duration": 0.018229,
     "end_time": "2020-11-25T17:40:45.118348",
     "exception": false,
     "start_time": "2020-11-25T17:40:45.100119",
     "status": "completed"
    },
    "tags": []
   },
   "source": [
    "Feel free to use any additional code cells for supplemental work.  To get credit for finishing this question, you'll need to run `q2.check()` and get a result of **Correct**."
   ]
  },
  {
   "cell_type": "code",
   "execution_count": 7,
   "metadata": {
    "execution": {
     "iopub.execute_input": "2020-11-25T17:40:45.161184Z",
     "iopub.status.busy": "2020-11-25T17:40:45.160385Z",
     "iopub.status.idle": "2020-11-25T17:40:45.163865Z",
     "shell.execute_reply": "2020-11-25T17:40:45.163142Z"
    },
    "papermill": {
     "duration": 0.027082,
     "end_time": "2020-11-25T17:40:45.163989",
     "exception": false,
     "start_time": "2020-11-25T17:40:45.136907",
     "status": "completed"
    },
    "tags": []
   },
   "outputs": [],
   "source": [
    "# (Optional) Use this code cell for any additional work."
   ]
  },
  {
   "cell_type": "code",
   "execution_count": 8,
   "metadata": {
    "execution": {
     "iopub.execute_input": "2020-11-25T17:40:45.206664Z",
     "iopub.status.busy": "2020-11-25T17:40:45.205731Z",
     "iopub.status.idle": "2020-11-25T17:40:45.208231Z",
     "shell.execute_reply": "2020-11-25T17:40:45.208764Z"
    },
    "papermill": {
     "duration": 0.026026,
     "end_time": "2020-11-25T17:40:45.208919",
     "exception": false,
     "start_time": "2020-11-25T17:40:45.182893",
     "status": "completed"
    },
    "tags": []
   },
   "outputs": [],
   "source": [
    "# Lines below will give you a hint or solution code\n",
    "#q2.hint()\n",
    "#q2.solution()"
   ]
  },
  {
   "cell_type": "markdown",
   "metadata": {
    "papermill": {
     "duration": 0.018367,
     "end_time": "2020-11-25T17:40:45.246768",
     "exception": false,
     "start_time": "2020-11-25T17:40:45.228401",
     "status": "completed"
    },
    "tags": []
   },
   "source": [
    "# 3) Saving your files with UTF-8 encoding\n",
    "\n",
    "Save a version of the police killings dataset to CSV with UTF-8 encoding.  Your answer will be marked correct after saving this file.  \n",
    "\n",
    "Note: When using the `to_csv()` method, supply only the name of the file (e.g., `\"my_file.csv\"`).  This saves the file at the filepath `\"/kaggle/working/my_file.csv\"`."
   ]
  },
  {
   "cell_type": "code",
   "execution_count": 9,
   "metadata": {
    "execution": {
     "iopub.execute_input": "2020-11-25T17:40:45.289614Z",
     "iopub.status.busy": "2020-11-25T17:40:45.288741Z",
     "iopub.status.idle": "2020-11-25T17:40:45.294967Z",
     "shell.execute_reply": "2020-11-25T17:40:45.295512Z"
    },
    "papermill": {
     "duration": 0.030262,
     "end_time": "2020-11-25T17:40:45.295714",
     "exception": false,
     "start_time": "2020-11-25T17:40:45.265452",
     "status": "completed"
    },
    "tags": []
   },
   "outputs": [
    {
     "data": {
      "application/javascript": [
       "parent.postMessage({\"jupyterEvent\": \"custom.exercise_interaction\", \"data\": {\"outcomeType\": 2, \"failureMessage\": \"Please save a CSV file and run this code cell again to get credit!\", \"interactionType\": 1, \"questionType\": 2, \"questionId\": \"3_SaveCSV\", \"learnToolsVersion\": \"0.3.4\", \"valueTowardsCompletion\": 0.0, \"exceptionClass\": \"\", \"trace\": \"\"}}, \"*\")"
      ],
      "text/plain": [
       "<IPython.core.display.Javascript object>"
      ]
     },
     "metadata": {},
     "output_type": "display_data"
    },
    {
     "data": {
      "text/markdown": [
       "<span style=\"color:#cc3333\">Incorrect:</span> Please save a CSV file and run this code cell again to get credit!"
      ],
      "text/plain": [
       "Incorrect: Please save a CSV file and run this code cell again to get credit!"
      ]
     },
     "metadata": {},
     "output_type": "display_data"
    }
   ],
   "source": [
    "# TODO: Save the police killings dataset to CSV\n",
    "____\n",
    "\n",
    "# Check your answer\n",
    "q3.check()"
   ]
  },
  {
   "cell_type": "code",
   "execution_count": 10,
   "metadata": {
    "execution": {
     "iopub.execute_input": "2020-11-25T17:40:45.341827Z",
     "iopub.status.busy": "2020-11-25T17:40:45.340717Z",
     "iopub.status.idle": "2020-11-25T17:40:45.343717Z",
     "shell.execute_reply": "2020-11-25T17:40:45.344239Z"
    },
    "papermill": {
     "duration": 0.028074,
     "end_time": "2020-11-25T17:40:45.344394",
     "exception": false,
     "start_time": "2020-11-25T17:40:45.316320",
     "status": "completed"
    },
    "tags": []
   },
   "outputs": [],
   "source": [
    "# Lines below will give you a hint or solution code\n",
    "#q3.hint()\n",
    "#q3.solution()"
   ]
  },
  {
   "cell_type": "markdown",
   "metadata": {
    "papermill": {
     "duration": 0.020436,
     "end_time": "2020-11-25T17:40:45.385816",
     "exception": false,
     "start_time": "2020-11-25T17:40:45.365380",
     "status": "completed"
    },
    "tags": []
   },
   "source": [
    "# (Optional) More practice\n",
    "\n",
    "Check out [this dataset of files in different character encodings](https://www.kaggle.com/rtatman/character-encoding-examples). Can you read in all the files with their original encodings and them save them out as UTF-8 files?\n",
    "\n",
    "If you have a file that's in UTF-8 but has just a couple of weird-looking characters in it, you can try out the [ftfy module](https://ftfy.readthedocs.io/en/latest/#) and see if it helps. \n",
    "\n",
    "# Keep going\n",
    "\n",
    "In the final lesson, learn how to [**clean up inconsistent text entries**](https://www.kaggle.com/alexisbcook/inconsistent-data-entry) in your dataset."
   ]
  },
  {
   "cell_type": "markdown",
   "metadata": {
    "papermill": {
     "duration": 0.020086,
     "end_time": "2020-11-25T17:40:45.426467",
     "exception": false,
     "start_time": "2020-11-25T17:40:45.406381",
     "status": "completed"
    },
    "tags": []
   },
   "source": [
    "---\n",
    "\n",
    "\n",
    "\n",
    "\n",
    "*Have questions or comments? Visit the [Learn Discussion forum](https://www.kaggle.com/learn-forum/172650) to chat with other Learners.*"
   ]
  }
 ],
 "metadata": {
  "kernelspec": {
   "display_name": "Python 3",
   "language": "python",
   "name": "python3"
  },
  "language_info": {
   "codemirror_mode": {
    "name": "ipython",
    "version": 3
   },
   "file_extension": ".py",
   "mimetype": "text/x-python",
   "name": "python",
   "nbconvert_exporter": "python",
   "pygments_lexer": "ipython3",
   "version": "3.7.6"
  },
  "papermill": {
   "duration": 6.493532,
   "end_time": "2020-11-25T17:40:45.554475",
   "environment_variables": {},
   "exception": null,
   "input_path": "__notebook__.ipynb",
   "output_path": "__notebook__.ipynb",
   "parameters": {},
   "start_time": "2020-11-25T17:40:39.060943",
   "version": "2.1.0"
  }
 },
 "nbformat": 4,
 "nbformat_minor": 4
}
