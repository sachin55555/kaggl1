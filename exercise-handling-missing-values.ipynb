{
 "cells": [
  {
   "cell_type": "markdown",
   "metadata": {
    "papermill": {
     "duration": 0.024781,
     "end_time": "2020-11-25T17:32:50.256439",
     "exception": false,
     "start_time": "2020-11-25T17:32:50.231658",
     "status": "completed"
    },
    "tags": []
   },
   "source": [
    "**This notebook is an exercise in the [Data Cleaning](https://www.kaggle.com/learn/data-cleaning) course.  You can reference the tutorial at [this link](https://www.kaggle.com/alexisbcook/handling-missing-values).**\n",
    "\n",
    "---\n"
   ]
  },
  {
   "cell_type": "markdown",
   "metadata": {
    "papermill": {
     "duration": 0.019956,
     "end_time": "2020-11-25T17:32:50.298480",
     "exception": false,
     "start_time": "2020-11-25T17:32:50.278524",
     "status": "completed"
    },
    "tags": []
   },
   "source": [
    "In this exercise, you'll apply what you learned in the **Handling missing values** tutorial.\n",
    "\n",
    "# Setup\n",
    "\n",
    "The questions below will give you feedback on your work. Run the following cell to set up the feedback system."
   ]
  },
  {
   "cell_type": "code",
   "execution_count": 1,
   "metadata": {
    "execution": {
     "iopub.execute_input": "2020-11-25T17:32:50.349634Z",
     "iopub.status.busy": "2020-11-25T17:32:50.348740Z",
     "iopub.status.idle": "2020-11-25T17:32:55.748072Z",
     "shell.execute_reply": "2020-11-25T17:32:55.747125Z"
    },
    "papermill": {
     "duration": 5.426769,
     "end_time": "2020-11-25T17:32:55.748253",
     "exception": false,
     "start_time": "2020-11-25T17:32:50.321484",
     "status": "completed"
    },
    "tags": []
   },
   "outputs": [
    {
     "name": "stderr",
     "output_type": "stream",
     "text": [
      "/opt/conda/lib/python3.7/site-packages/IPython/core/interactiveshell.py:3254: DtypeWarning: Columns (22,32) have mixed types.Specify dtype option on import or set low_memory=False.\n",
      "  if (await self.run_code(code, result,  async_=asy)):\n"
     ]
    },
    {
     "name": "stdout",
     "output_type": "stream",
     "text": [
      "Setup Complete\n"
     ]
    }
   ],
   "source": [
    "from learntools.core import binder\n",
    "binder.bind(globals())\n",
    "from learntools.data_cleaning.ex1 import *\n",
    "print(\"Setup Complete\")"
   ]
  },
  {
   "cell_type": "markdown",
   "metadata": {
    "papermill": {
     "duration": 0.021127,
     "end_time": "2020-11-25T17:32:55.792717",
     "exception": false,
     "start_time": "2020-11-25T17:32:55.771590",
     "status": "completed"
    },
    "tags": []
   },
   "source": [
    "# 1) Take a first look at the data\n",
    "\n",
    "Run the next code cell to load in the libraries and dataset you'll use to complete the exercise."
   ]
  },
  {
   "cell_type": "code",
   "execution_count": 2,
   "metadata": {
    "execution": {
     "iopub.execute_input": "2020-11-25T17:32:55.846569Z",
     "iopub.status.busy": "2020-11-25T17:32:55.845737Z",
     "iopub.status.idle": "2020-11-25T17:32:58.153435Z",
     "shell.execute_reply": "2020-11-25T17:32:58.152624Z"
    },
    "papermill": {
     "duration": 2.337448,
     "end_time": "2020-11-25T17:32:58.153588",
     "exception": false,
     "start_time": "2020-11-25T17:32:55.816140",
     "status": "completed"
    },
    "tags": []
   },
   "outputs": [
    {
     "name": "stderr",
     "output_type": "stream",
     "text": [
      "/opt/conda/lib/python3.7/site-packages/IPython/core/interactiveshell.py:3063: DtypeWarning: Columns (22,32) have mixed types.Specify dtype option on import or set low_memory=False.\n",
      "  interactivity=interactivity, compiler=compiler, result=result)\n"
     ]
    }
   ],
   "source": [
    "# modules we'll use\n",
    "import pandas as pd\n",
    "import numpy as np\n",
    "\n",
    "# read in all our data\n",
    "sf_permits = pd.read_csv(\"../input/building-permit-applications-data/Building_Permits.csv\")\n",
    "\n",
    "# set seed for reproducibility\n",
    "np.random.seed(0) "
   ]
  },
  {
   "cell_type": "markdown",
   "metadata": {
    "papermill": {
     "duration": 0.021444,
     "end_time": "2020-11-25T17:32:58.198345",
     "exception": false,
     "start_time": "2020-11-25T17:32:58.176901",
     "status": "completed"
    },
    "tags": []
   },
   "source": [
    "Use the code cell below to print the first five rows of the `sf_permits` DataFrame."
   ]
  },
  {
   "cell_type": "code",
   "execution_count": 3,
   "metadata": {
    "execution": {
     "iopub.execute_input": "2020-11-25T17:32:58.250009Z",
     "iopub.status.busy": "2020-11-25T17:32:58.248896Z",
     "iopub.status.idle": "2020-11-25T17:32:58.252752Z",
     "shell.execute_reply": "2020-11-25T17:32:58.251975Z"
    },
    "papermill": {
     "duration": 0.032142,
     "end_time": "2020-11-25T17:32:58.252888",
     "exception": false,
     "start_time": "2020-11-25T17:32:58.220746",
     "status": "completed"
    },
    "tags": []
   },
   "outputs": [],
   "source": [
    "# TODO: Your code here!\n"
   ]
  },
  {
   "cell_type": "markdown",
   "metadata": {
    "papermill": {
     "duration": 0.022486,
     "end_time": "2020-11-25T17:32:58.298203",
     "exception": false,
     "start_time": "2020-11-25T17:32:58.275717",
     "status": "completed"
    },
    "tags": []
   },
   "source": [
    "Does the dataset have any missing values?  Once you have an answer, run the code cell below to get credit for your work."
   ]
  },
  {
   "cell_type": "code",
   "execution_count": 4,
   "metadata": {
    "execution": {
     "iopub.execute_input": "2020-11-25T17:32:58.349674Z",
     "iopub.status.busy": "2020-11-25T17:32:58.348618Z",
     "iopub.status.idle": "2020-11-25T17:32:58.355373Z",
     "shell.execute_reply": "2020-11-25T17:32:58.354634Z"
    },
    "papermill": {
     "duration": 0.035751,
     "end_time": "2020-11-25T17:32:58.355499",
     "exception": false,
     "start_time": "2020-11-25T17:32:58.319748",
     "status": "completed"
    },
    "tags": []
   },
   "outputs": [
    {
     "data": {
      "application/javascript": [
       "parent.postMessage({\"jupyterEvent\": \"custom.exercise_interaction\", \"data\": {\"outcomeType\": 1, \"valueTowardsCompletion\": 0.16666666666666666, \"interactionType\": 1, \"questionType\": 4, \"questionId\": \"1_TakeFirstLook\", \"learnToolsVersion\": \"0.3.4\", \"failureMessage\": \"\", \"exceptionClass\": \"\", \"trace\": \"\"}}, \"*\")"
      ],
      "text/plain": [
       "<IPython.core.display.Javascript object>"
      ]
     },
     "metadata": {},
     "output_type": "display_data"
    },
    {
     "data": {
      "text/markdown": [
       "<span style=\"color:#33cc33\">Correct:</span> \n",
       "\n",
       "The first five rows of the data does show that several columns have missing values.  You can see this in the \"Street Number Suffix\", \"Proposed Construction Type\" and \"Site Permit\" columns, among others."
      ],
      "text/plain": [
       "Correct: \n",
       "\n",
       "The first five rows of the data does show that several columns have missing values.  You can see this in the \"Street Number Suffix\", \"Proposed Construction Type\" and \"Site Permit\" columns, among others."
      ]
     },
     "metadata": {},
     "output_type": "display_data"
    }
   ],
   "source": [
    "# Check your answer (Run this code cell to receive credit!)\n",
    "q1.check()"
   ]
  },
  {
   "cell_type": "code",
   "execution_count": 5,
   "metadata": {
    "execution": {
     "iopub.execute_input": "2020-11-25T17:32:58.410403Z",
     "iopub.status.busy": "2020-11-25T17:32:58.409519Z",
     "iopub.status.idle": "2020-11-25T17:32:58.413839Z",
     "shell.execute_reply": "2020-11-25T17:32:58.413205Z"
    },
    "papermill": {
     "duration": 0.035096,
     "end_time": "2020-11-25T17:32:58.414014",
     "exception": false,
     "start_time": "2020-11-25T17:32:58.378918",
     "status": "completed"
    },
    "tags": []
   },
   "outputs": [],
   "source": [
    "# Line below will give you a hint\n",
    "#q1.hint()"
   ]
  },
  {
   "cell_type": "markdown",
   "metadata": {
    "papermill": {
     "duration": 0.025885,
     "end_time": "2020-11-25T17:32:58.465220",
     "exception": false,
     "start_time": "2020-11-25T17:32:58.439335",
     "status": "completed"
    },
    "tags": []
   },
   "source": [
    "# 2) How many missing data points do we have?\n",
    "\n",
    "What percentage of the values in the dataset are missing?  Your answer should be a number between 0 and 100.  (If 1/4 of the values in the dataset are missing, the answer is 25.)"
   ]
  },
  {
   "cell_type": "code",
   "execution_count": 6,
   "metadata": {
    "execution": {
     "iopub.execute_input": "2020-11-25T17:32:58.522275Z",
     "iopub.status.busy": "2020-11-25T17:32:58.521253Z",
     "iopub.status.idle": "2020-11-25T17:32:58.527909Z",
     "shell.execute_reply": "2020-11-25T17:32:58.526779Z"
    },
    "papermill": {
     "duration": 0.038046,
     "end_time": "2020-11-25T17:32:58.528168",
     "exception": false,
     "start_time": "2020-11-25T17:32:58.490122",
     "status": "completed"
    },
    "tags": []
   },
   "outputs": [
    {
     "data": {
      "application/javascript": [
       "parent.postMessage({\"jupyterEvent\": \"custom.exercise_interaction\", \"data\": {\"outcomeType\": 4, \"interactionType\": 1, \"questionType\": 1, \"questionId\": \"2_PercentMissingValues\", \"learnToolsVersion\": \"0.3.4\", \"valueTowardsCompletion\": 0.0, \"failureMessage\": \"\", \"exceptionClass\": \"\", \"trace\": \"\"}}, \"*\")"
      ],
      "text/plain": [
       "<IPython.core.display.Javascript object>"
      ]
     },
     "metadata": {},
     "output_type": "display_data"
    },
    {
     "data": {
      "text/markdown": [
       "<span style=\"color:#ccaa33\">Check:</span> When you've updated the starter code, `check()` will tell you whether your code is correct. You need to update the code that creates variable `percent_missing`"
      ],
      "text/plain": [
       "Check: When you've updated the starter code, `check()` will tell you whether your code is correct. You need to update the code that creates variable `percent_missing`"
      ]
     },
     "metadata": {},
     "output_type": "display_data"
    }
   ],
   "source": [
    "# TODO: Your code here!\n",
    "percent_missing = ____\n",
    "\n",
    "# Check your answer\n",
    "q2.check()"
   ]
  },
  {
   "cell_type": "code",
   "execution_count": 7,
   "metadata": {
    "execution": {
     "iopub.execute_input": "2020-11-25T17:32:58.587403Z",
     "iopub.status.busy": "2020-11-25T17:32:58.586339Z",
     "iopub.status.idle": "2020-11-25T17:32:58.590272Z",
     "shell.execute_reply": "2020-11-25T17:32:58.589508Z"
    },
    "papermill": {
     "duration": 0.035359,
     "end_time": "2020-11-25T17:32:58.590405",
     "exception": false,
     "start_time": "2020-11-25T17:32:58.555046",
     "status": "completed"
    },
    "tags": []
   },
   "outputs": [],
   "source": [
    "# Lines below will give you a hint or solution code\n",
    "#q2.hint()\n",
    "#q2.solution()"
   ]
  },
  {
   "cell_type": "markdown",
   "metadata": {
    "papermill": {
     "duration": 0.025594,
     "end_time": "2020-11-25T17:32:58.642323",
     "exception": false,
     "start_time": "2020-11-25T17:32:58.616729",
     "status": "completed"
    },
    "tags": []
   },
   "source": [
    "# 3) Figure out why the data is missing\n",
    "\n",
    "Look at the columns **\"Street Number Suffix\"** and **\"Zipcode\"** from the [San Francisco Building Permits dataset](https://www.kaggle.com/aparnashastry/building-permit-applications-data). Both of these contain missing values. \n",
    "- Which, if either, are missing because they don't exist? \n",
    "- Which, if either, are missing because they weren't recorded?  \n",
    "\n",
    "Once you have an answer, run the code cell below."
   ]
  },
  {
   "cell_type": "code",
   "execution_count": 8,
   "metadata": {
    "execution": {
     "iopub.execute_input": "2020-11-25T17:32:58.702688Z",
     "iopub.status.busy": "2020-11-25T17:32:58.701621Z",
     "iopub.status.idle": "2020-11-25T17:32:58.708376Z",
     "shell.execute_reply": "2020-11-25T17:32:58.707664Z"
    },
    "papermill": {
     "duration": 0.040069,
     "end_time": "2020-11-25T17:32:58.708515",
     "exception": false,
     "start_time": "2020-11-25T17:32:58.668446",
     "status": "completed"
    },
    "tags": []
   },
   "outputs": [
    {
     "data": {
      "application/javascript": [
       "parent.postMessage({\"jupyterEvent\": \"custom.exercise_interaction\", \"data\": {\"outcomeType\": 1, \"valueTowardsCompletion\": 0.16666666666666666, \"interactionType\": 1, \"questionType\": 4, \"questionId\": \"3_WhyDataMissing\", \"learnToolsVersion\": \"0.3.4\", \"failureMessage\": \"\", \"exceptionClass\": \"\", \"trace\": \"\"}}, \"*\")"
      ],
      "text/plain": [
       "<IPython.core.display.Javascript object>"
      ]
     },
     "metadata": {},
     "output_type": "display_data"
    },
    {
     "data": {
      "text/markdown": [
       "<span style=\"color:#33cc33\">Correct:</span> \n",
       "\n",
       "If a value in the \"Street Number Suffix\" column is missing, it is likely because it does not exist. If a value in the \"Zipcode\" column is missing, it was not recorded."
      ],
      "text/plain": [
       "Correct: \n",
       "\n",
       "If a value in the \"Street Number Suffix\" column is missing, it is likely because it does not exist. If a value in the \"Zipcode\" column is missing, it was not recorded."
      ]
     },
     "metadata": {},
     "output_type": "display_data"
    }
   ],
   "source": [
    "# Check your answer (Run this code cell to receive credit!)\n",
    "q3.check()"
   ]
  },
  {
   "cell_type": "code",
   "execution_count": 9,
   "metadata": {
    "execution": {
     "iopub.execute_input": "2020-11-25T17:32:58.773065Z",
     "iopub.status.busy": "2020-11-25T17:32:58.772252Z",
     "iopub.status.idle": "2020-11-25T17:32:58.776880Z",
     "shell.execute_reply": "2020-11-25T17:32:58.775636Z"
    },
    "papermill": {
     "duration": 0.039074,
     "end_time": "2020-11-25T17:32:58.777239",
     "exception": false,
     "start_time": "2020-11-25T17:32:58.738165",
     "status": "completed"
    },
    "tags": []
   },
   "outputs": [],
   "source": [
    "# Line below will give you a hint\n",
    "#q3.hint()"
   ]
  },
  {
   "cell_type": "markdown",
   "metadata": {
    "papermill": {
     "duration": 0.029034,
     "end_time": "2020-11-25T17:32:58.834176",
     "exception": false,
     "start_time": "2020-11-25T17:32:58.805142",
     "status": "completed"
    },
    "tags": []
   },
   "source": [
    "# 4) Drop missing values: rows\n",
    "\n",
    "If you removed all of the rows of `sf_permits` with missing values, how many rows are left?\n",
    "\n",
    "**Note**: Do not change the value of `sf_permits` when checking this.  "
   ]
  },
  {
   "cell_type": "code",
   "execution_count": 10,
   "metadata": {
    "execution": {
     "iopub.execute_input": "2020-11-25T17:32:58.897617Z",
     "iopub.status.busy": "2020-11-25T17:32:58.896527Z",
     "iopub.status.idle": "2020-11-25T17:32:58.900373Z",
     "shell.execute_reply": "2020-11-25T17:32:58.899617Z"
    },
    "papermill": {
     "duration": 0.038012,
     "end_time": "2020-11-25T17:32:58.900503",
     "exception": false,
     "start_time": "2020-11-25T17:32:58.862491",
     "status": "completed"
    },
    "tags": []
   },
   "outputs": [],
   "source": [
    "# TODO: Your code here!\n"
   ]
  },
  {
   "cell_type": "markdown",
   "metadata": {
    "papermill": {
     "duration": 0.027207,
     "end_time": "2020-11-25T17:32:58.964434",
     "exception": false,
     "start_time": "2020-11-25T17:32:58.937227",
     "status": "completed"
    },
    "tags": []
   },
   "source": [
    "Once you have an answer, run the code cell below."
   ]
  },
  {
   "cell_type": "code",
   "execution_count": 11,
   "metadata": {
    "execution": {
     "iopub.execute_input": "2020-11-25T17:32:59.030405Z",
     "iopub.status.busy": "2020-11-25T17:32:59.029415Z",
     "iopub.status.idle": "2020-11-25T17:32:59.035867Z",
     "shell.execute_reply": "2020-11-25T17:32:59.035070Z"
    },
    "papermill": {
     "duration": 0.040657,
     "end_time": "2020-11-25T17:32:59.036033",
     "exception": false,
     "start_time": "2020-11-25T17:32:58.995376",
     "status": "completed"
    },
    "tags": []
   },
   "outputs": [
    {
     "data": {
      "application/javascript": [
       "parent.postMessage({\"jupyterEvent\": \"custom.exercise_interaction\", \"data\": {\"outcomeType\": 1, \"valueTowardsCompletion\": 0.16666666666666666, \"interactionType\": 1, \"questionType\": 4, \"questionId\": \"4_DropMissingRows\", \"learnToolsVersion\": \"0.3.4\", \"failureMessage\": \"\", \"exceptionClass\": \"\", \"trace\": \"\"}}, \"*\")"
      ],
      "text/plain": [
       "<IPython.core.display.Javascript object>"
      ]
     },
     "metadata": {},
     "output_type": "display_data"
    },
    {
     "data": {
      "text/markdown": [
       "<span style=\"color:#33cc33\">Correct:</span> \n",
       "\n",
       "There are no rows remaining in the dataset!"
      ],
      "text/plain": [
       "Correct: \n",
       "\n",
       "There are no rows remaining in the dataset!"
      ]
     },
     "metadata": {},
     "output_type": "display_data"
    }
   ],
   "source": [
    "# Check your answer (Run this code cell to receive credit!)\n",
    "q4.check()"
   ]
  },
  {
   "cell_type": "code",
   "execution_count": 12,
   "metadata": {
    "execution": {
     "iopub.execute_input": "2020-11-25T17:32:59.104921Z",
     "iopub.status.busy": "2020-11-25T17:32:59.104180Z",
     "iopub.status.idle": "2020-11-25T17:32:59.107066Z",
     "shell.execute_reply": "2020-11-25T17:32:59.108025Z"
    },
    "papermill": {
     "duration": 0.041711,
     "end_time": "2020-11-25T17:32:59.108310",
     "exception": false,
     "start_time": "2020-11-25T17:32:59.066599",
     "status": "completed"
    },
    "tags": []
   },
   "outputs": [],
   "source": [
    "# Line below will give you a hint\n",
    "#q4.hint()"
   ]
  },
  {
   "cell_type": "markdown",
   "metadata": {
    "papermill": {
     "duration": 0.030057,
     "end_time": "2020-11-25T17:32:59.170052",
     "exception": false,
     "start_time": "2020-11-25T17:32:59.139995",
     "status": "completed"
    },
    "tags": []
   },
   "source": [
    "# 5) Drop missing values: columns\n",
    "\n",
    "Now try removing all the columns with empty values.  \n",
    "- Create a new DataFrame called `sf_permits_with_na_dropped` that has all of the columns with empty values removed.  \n",
    "- How many columns were removed from the original `sf_permits` DataFrame? Use this number to set the value of the `dropped_columns` variable below."
   ]
  },
  {
   "cell_type": "code",
   "execution_count": 13,
   "metadata": {
    "execution": {
     "iopub.execute_input": "2020-11-25T17:32:59.238875Z",
     "iopub.status.busy": "2020-11-25T17:32:59.237865Z",
     "iopub.status.idle": "2020-11-25T17:32:59.243804Z",
     "shell.execute_reply": "2020-11-25T17:32:59.244378Z"
    },
    "papermill": {
     "duration": 0.043687,
     "end_time": "2020-11-25T17:32:59.244555",
     "exception": false,
     "start_time": "2020-11-25T17:32:59.200868",
     "status": "completed"
    },
    "tags": []
   },
   "outputs": [
    {
     "data": {
      "application/javascript": [
       "parent.postMessage({\"jupyterEvent\": \"custom.exercise_interaction\", \"data\": {\"outcomeType\": 4, \"interactionType\": 1, \"questionType\": 1, \"questionId\": \"5_DropMissingCols\", \"learnToolsVersion\": \"0.3.4\", \"valueTowardsCompletion\": 0.0, \"failureMessage\": \"\", \"exceptionClass\": \"\", \"trace\": \"\"}}, \"*\")"
      ],
      "text/plain": [
       "<IPython.core.display.Javascript object>"
      ]
     },
     "metadata": {},
     "output_type": "display_data"
    },
    {
     "data": {
      "text/markdown": [
       "<span style=\"color:#ccaa33\">Check:</span> When you've updated the starter code, `check()` will tell you whether your code is correct. You need to update the code that creates variables `sf_permits_with_na_dropped`, `dropped_columns`"
      ],
      "text/plain": [
       "Check: When you've updated the starter code, `check()` will tell you whether your code is correct. You need to update the code that creates variables `sf_permits_with_na_dropped`, `dropped_columns`"
      ]
     },
     "metadata": {},
     "output_type": "display_data"
    }
   ],
   "source": [
    "# TODO: Your code here\n",
    "sf_permits_with_na_dropped = ____\n",
    "\n",
    "dropped_columns = ____\n",
    "\n",
    "# Check your answer\n",
    "q5.check()"
   ]
  },
  {
   "cell_type": "code",
   "execution_count": 14,
   "metadata": {
    "execution": {
     "iopub.execute_input": "2020-11-25T17:32:59.318045Z",
     "iopub.status.busy": "2020-11-25T17:32:59.315639Z",
     "iopub.status.idle": "2020-11-25T17:32:59.320543Z",
     "shell.execute_reply": "2020-11-25T17:32:59.319884Z"
    },
    "papermill": {
     "duration": 0.043195,
     "end_time": "2020-11-25T17:32:59.320679",
     "exception": false,
     "start_time": "2020-11-25T17:32:59.277484",
     "status": "completed"
    },
    "tags": []
   },
   "outputs": [],
   "source": [
    "# Lines below will give you a hint or solution code\n",
    "#q5.hint()\n",
    "#q5.solution()"
   ]
  },
  {
   "cell_type": "markdown",
   "metadata": {
    "papermill": {
     "duration": 0.032327,
     "end_time": "2020-11-25T17:32:59.385164",
     "exception": false,
     "start_time": "2020-11-25T17:32:59.352837",
     "status": "completed"
    },
    "tags": []
   },
   "source": [
    "# 6) Fill in missing values automatically\n",
    "\n",
    "Try replacing all the NaN's in the `sf_permits` data with the one that comes directly after it and then replacing any remaining NaN's with 0.  Set the result to a new DataFrame `sf_permits_with_na_imputed`."
   ]
  },
  {
   "cell_type": "code",
   "execution_count": 15,
   "metadata": {
    "execution": {
     "iopub.execute_input": "2020-11-25T17:32:59.458829Z",
     "iopub.status.busy": "2020-11-25T17:32:59.457795Z",
     "iopub.status.idle": "2020-11-25T17:32:59.464368Z",
     "shell.execute_reply": "2020-11-25T17:32:59.463571Z"
    },
    "papermill": {
     "duration": 0.044344,
     "end_time": "2020-11-25T17:32:59.464501",
     "exception": false,
     "start_time": "2020-11-25T17:32:59.420157",
     "status": "completed"
    },
    "tags": []
   },
   "outputs": [
    {
     "data": {
      "application/javascript": [
       "parent.postMessage({\"jupyterEvent\": \"custom.exercise_interaction\", \"data\": {\"outcomeType\": 4, \"interactionType\": 1, \"questionType\": 1, \"questionId\": \"6_ImputeAutomatically\", \"learnToolsVersion\": \"0.3.4\", \"valueTowardsCompletion\": 0.0, \"failureMessage\": \"\", \"exceptionClass\": \"\", \"trace\": \"\"}}, \"*\")"
      ],
      "text/plain": [
       "<IPython.core.display.Javascript object>"
      ]
     },
     "metadata": {},
     "output_type": "display_data"
    },
    {
     "data": {
      "text/markdown": [
       "<span style=\"color:#ccaa33\">Check:</span> When you've updated the starter code, `check()` will tell you whether your code is correct. You need to update the code that creates variable `sf_permits_with_na_imputed`"
      ],
      "text/plain": [
       "Check: When you've updated the starter code, `check()` will tell you whether your code is correct. You need to update the code that creates variable `sf_permits_with_na_imputed`"
      ]
     },
     "metadata": {},
     "output_type": "display_data"
    }
   ],
   "source": [
    "# TODO: Your code here\n",
    "sf_permits_with_na_imputed = ____\n",
    "\n",
    "# Check your answer\n",
    "q6.check()"
   ]
  },
  {
   "cell_type": "code",
   "execution_count": 16,
   "metadata": {
    "execution": {
     "iopub.execute_input": "2020-11-25T17:32:59.534625Z",
     "iopub.status.busy": "2020-11-25T17:32:59.533793Z",
     "iopub.status.idle": "2020-11-25T17:32:59.537973Z",
     "shell.execute_reply": "2020-11-25T17:32:59.537163Z"
    },
    "papermill": {
     "duration": 0.041033,
     "end_time": "2020-11-25T17:32:59.538108",
     "exception": false,
     "start_time": "2020-11-25T17:32:59.497075",
     "status": "completed"
    },
    "tags": []
   },
   "outputs": [],
   "source": [
    "# Lines below will give you a hint or solution code\n",
    "#q6.hint()\n",
    "#q6.solution()"
   ]
  },
  {
   "cell_type": "markdown",
   "metadata": {
    "papermill": {
     "duration": 0.033836,
     "end_time": "2020-11-25T17:32:59.604224",
     "exception": false,
     "start_time": "2020-11-25T17:32:59.570388",
     "status": "completed"
    },
    "tags": []
   },
   "source": [
    "# More practice\n",
    "\n",
    "If you're looking for more practice handling missing values:\n",
    "\n",
    "* Check out [this noteboook](https://www.kaggle.com/alexisbcook/missing-values) on handling missing values using scikit-learn's imputer. \n",
    "* Look back at the \"Zipcode\" column in the `sf_permits` dataset, which has some missing values. How would you go about figuring out what the actual zipcode of each address should be? (You might try using another dataset. You can search for datasets about San Fransisco on the [Datasets listing](https://www.kaggle.com/datasets).) \n",
    "\n",
    "# Keep going\n",
    "\n",
    "In the next lesson, learn how to [**apply scaling and normalization**](https://www.kaggle.com/alexisbcook/scaling-and-normalization) to transform your data."
   ]
  },
  {
   "cell_type": "markdown",
   "metadata": {
    "papermill": {
     "duration": 0.033018,
     "end_time": "2020-11-25T17:32:59.669836",
     "exception": false,
     "start_time": "2020-11-25T17:32:59.636818",
     "status": "completed"
    },
    "tags": []
   },
   "source": [
    "---\n",
    "\n",
    "\n",
    "\n",
    "\n",
    "*Have questions or comments? Visit the [Learn Discussion forum](https://www.kaggle.com/learn-forum/172650) to chat with other Learners.*"
   ]
  }
 ],
 "metadata": {
  "kernelspec": {
   "display_name": "Python 3",
   "language": "python",
   "name": "python3"
  },
  "language_info": {
   "codemirror_mode": {
    "name": "ipython",
    "version": 3
   },
   "file_extension": ".py",
   "mimetype": "text/x-python",
   "name": "python",
   "nbconvert_exporter": "python",
   "pygments_lexer": "ipython3",
   "version": "3.7.6"
  },
  "papermill": {
   "duration": 15.63563,
   "end_time": "2020-11-25T17:32:59.812357",
   "environment_variables": {},
   "exception": null,
   "input_path": "__notebook__.ipynb",
   "output_path": "__notebook__.ipynb",
   "parameters": {},
   "start_time": "2020-11-25T17:32:44.176727",
   "version": "2.1.0"
  }
 },
 "nbformat": 4,
 "nbformat_minor": 4
}
