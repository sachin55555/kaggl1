{
 "cells": [
  {
   "cell_type": "markdown",
   "metadata": {
    "papermill": {
     "duration": 0.020376,
     "end_time": "2020-12-13T17:53:20.036856",
     "exception": false,
     "start_time": "2020-12-13T17:53:20.016480",
     "status": "completed"
    },
    "tags": []
   },
   "source": [
    "**This notebook is an exercise in the [Pandas](https://www.kaggle.com/learn/pandas) course.  You can reference the tutorial at [this link](https://www.kaggle.com/residentmario/grouping-and-sorting).**\n",
    "\n",
    "---\n"
   ]
  },
  {
   "cell_type": "markdown",
   "metadata": {
    "papermill": {
     "duration": 0.01734,
     "end_time": "2020-12-13T17:53:20.071974",
     "exception": false,
     "start_time": "2020-12-13T17:53:20.054634",
     "status": "completed"
    },
    "tags": []
   },
   "source": [
    "# Introduction\n",
    "\n",
    "In these exercises we'll apply groupwise analysis to our dataset.\n",
    "\n",
    "Run the code cell below to load the data before running the exercises."
   ]
  },
  {
   "cell_type": "code",
   "execution_count": 1,
   "metadata": {
    "execution": {
     "iopub.execute_input": "2020-12-13T17:53:20.118495Z",
     "iopub.status.busy": "2020-12-13T17:53:20.117759Z",
     "iopub.status.idle": "2020-12-13T17:53:22.904579Z",
     "shell.execute_reply": "2020-12-13T17:53:22.903678Z"
    },
    "papermill": {
     "duration": 2.815237,
     "end_time": "2020-12-13T17:53:22.904744",
     "exception": false,
     "start_time": "2020-12-13T17:53:20.089507",
     "status": "completed"
    },
    "tags": []
   },
   "outputs": [
    {
     "name": "stdout",
     "output_type": "stream",
     "text": [
      "Setup complete.\n"
     ]
    }
   ],
   "source": [
    "import pandas as pd\n",
    "\n",
    "reviews = pd.read_csv(\"../input/wine-reviews/winemag-data-130k-v2.csv\", index_col=0)\n",
    "#pd.set_option(\"display.max_rows\", 5)\n",
    "\n",
    "from learntools.core import binder; binder.bind(globals())\n",
    "from learntools.pandas.grouping_and_sorting import *\n",
    "print(\"Setup complete.\")"
   ]
  },
  {
   "cell_type": "markdown",
   "metadata": {
    "papermill": {
     "duration": 0.018371,
     "end_time": "2020-12-13T17:53:22.942389",
     "exception": false,
     "start_time": "2020-12-13T17:53:22.924018",
     "status": "completed"
    },
    "tags": []
   },
   "source": [
    "# Exercises"
   ]
  },
  {
   "cell_type": "markdown",
   "metadata": {
    "papermill": {
     "duration": 0.017951,
     "end_time": "2020-12-13T17:53:22.978608",
     "exception": false,
     "start_time": "2020-12-13T17:53:22.960657",
     "status": "completed"
    },
    "tags": []
   },
   "source": [
    "\n",
    "Who are the most common wine reviewers in the dataset? Create a `Series` whose index is the `taster_twitter_handle` category from the dataset, and whose values count how many reviews each person wrote."
   ]
  },
  {
   "cell_type": "code",
   "execution_count": 2,
   "metadata": {
    "execution": {
     "iopub.execute_input": "2020-12-13T17:53:23.043747Z",
     "iopub.status.busy": "2020-12-13T17:53:23.043006Z",
     "iopub.status.idle": "2020-12-13T17:53:23.093363Z",
     "shell.execute_reply": "2020-12-13T17:53:23.092609Z"
    },
    "papermill": {
     "duration": 0.096745,
     "end_time": "2020-12-13T17:53:23.093486",
     "exception": false,
     "start_time": "2020-12-13T17:53:22.996741",
     "status": "completed"
    },
    "tags": []
   },
   "outputs": [
    {
     "ename": "NameError",
     "evalue": "name 'check_q1' is not defined",
     "output_type": "error",
     "traceback": [
      "\u001b[0;31m---------------------------------------------------------------------------\u001b[0m",
      "\u001b[0;31mNameError\u001b[0m                                 Traceback (most recent call last)",
      "\u001b[0;32m<ipython-input-2-9d5cade2578f>\u001b[0m in \u001b[0;36m<module>\u001b[0;34m\u001b[0m\n\u001b[1;32m      3\u001b[0m \u001b[0mcommon_wine_reviewers\u001b[0m\u001b[0;34m\u001b[0m\u001b[0;34m\u001b[0m\u001b[0m\n\u001b[1;32m      4\u001b[0m \u001b[0;34m\u001b[0m\u001b[0m\n\u001b[0;32m----> 5\u001b[0;31m \u001b[0mcheck_q1\u001b[0m \u001b[0;34m(\u001b[0m\u001b[0;34m'common_wine_reviewers'\u001b[0m\u001b[0;34m)\u001b[0m\u001b[0;34m\u001b[0m\u001b[0;34m\u001b[0m\u001b[0m\n\u001b[0m\u001b[1;32m      6\u001b[0m \u001b[0;34m\u001b[0m\u001b[0m\n\u001b[1;32m      7\u001b[0m \u001b[0;34m\u001b[0m\u001b[0m\n",
      "\u001b[0;31mNameError\u001b[0m: name 'check_q1' is not defined"
     ]
    }
   ],
   "source": [
    "# Your code here\n",
    "common_wine_reviewers = reviews.groupby('taster_twitter_handle').taster_twitter_handle.count()\n",
    "common_wine_reviewers\n",
    "\n",
    "check_q1 ('common_wine_reviewers')\n",
    "\n",
    " \n",
    "\n"
   ]
  },
  {
   "cell_type": "code",
   "execution_count": 3,
   "metadata": {
    "execution": {
     "iopub.execute_input": "2020-12-13T17:53:23.135591Z",
     "iopub.status.busy": "2020-12-13T17:53:23.134903Z",
     "iopub.status.idle": "2020-12-13T17:53:23.138063Z",
     "shell.execute_reply": "2020-12-13T17:53:23.137377Z"
    },
    "papermill": {
     "duration": 0.025631,
     "end_time": "2020-12-13T17:53:23.138212",
     "exception": false,
     "start_time": "2020-12-13T17:53:23.112581",
     "status": "completed"
    },
    "tags": []
   },
   "outputs": [],
   "source": [
    "#q1.hint()\n",
    "#q1.solution()"
   ]
  },
  {
   "cell_type": "markdown",
   "metadata": {
    "papermill": {
     "duration": 0.018599,
     "end_time": "2020-12-13T17:53:23.175874",
     "exception": false,
     "start_time": "2020-12-13T17:53:23.157275",
     "status": "completed"
    },
    "tags": []
   },
   "source": [
    "## 2.\n",
    "What is the best wine I can buy for a given amount of money? Create a `Series` whose index is wine prices and whose values is the maximum number of points a wine costing that much was given in a review. Sort the values by price, ascending (so that `4.0` dollars is at the top and `3300.0` dollars is at the bottom)."
   ]
  },
  {
   "cell_type": "code",
   "execution_count": 4,
   "metadata": {
    "execution": {
     "iopub.execute_input": "2020-12-13T17:53:23.220049Z",
     "iopub.status.busy": "2020-12-13T17:53:23.219367Z",
     "iopub.status.idle": "2020-12-13T17:53:23.236939Z",
     "shell.execute_reply": "2020-12-13T17:53:23.236361Z"
    },
    "papermill": {
     "duration": 0.042099,
     "end_time": "2020-12-13T17:53:23.237048",
     "exception": false,
     "start_time": "2020-12-13T17:53:23.194949",
     "status": "completed"
    },
    "tags": []
   },
   "outputs": [
    {
     "ename": "NameError",
     "evalue": "name 'check_q2' is not defined",
     "output_type": "error",
     "traceback": [
      "\u001b[0;31m---------------------------------------------------------------------------\u001b[0m",
      "\u001b[0;31mNameError\u001b[0m                                 Traceback (most recent call last)",
      "\u001b[0;32m<ipython-input-4-72a8325464ca>\u001b[0m in \u001b[0;36m<module>\u001b[0;34m\u001b[0m\n\u001b[1;32m      3\u001b[0m \u001b[0;34m\u001b[0m\u001b[0m\n\u001b[1;32m      4\u001b[0m \u001b[0;31m# Check your answer\u001b[0m\u001b[0;34m\u001b[0m\u001b[0;34m\u001b[0m\u001b[0;34m\u001b[0m\u001b[0m\n\u001b[0;32m----> 5\u001b[0;31m \u001b[0mcheck_q2\u001b[0m\u001b[0;34m(\u001b[0m\u001b[0mbest_wine\u001b[0m\u001b[0;34m)\u001b[0m\u001b[0;34m\u001b[0m\u001b[0;34m\u001b[0m\u001b[0m\n\u001b[0m",
      "\u001b[0;31mNameError\u001b[0m: name 'check_q2' is not defined"
     ]
    }
   ],
   "source": [
    "best_wine = reviews.groupby('price').points.max()\n",
    "best_wine\n",
    "\n",
    "# Check your answer\n",
    "check_q2(best_wine)"
   ]
  },
  {
   "cell_type": "code",
   "execution_count": 5,
   "metadata": {
    "execution": {
     "iopub.execute_input": "2020-12-13T17:53:23.280447Z",
     "iopub.status.busy": "2020-12-13T17:53:23.279692Z",
     "iopub.status.idle": "2020-12-13T17:53:23.284284Z",
     "shell.execute_reply": "2020-12-13T17:53:23.283653Z"
    },
    "papermill": {
     "duration": 0.027768,
     "end_time": "2020-12-13T17:53:23.284427",
     "exception": false,
     "start_time": "2020-12-13T17:53:23.256659",
     "status": "completed"
    },
    "tags": []
   },
   "outputs": [],
   "source": [
    "#q2.hint()\n",
    "#q2.solution()"
   ]
  },
  {
   "cell_type": "markdown",
   "metadata": {
    "papermill": {
     "duration": 0.019803,
     "end_time": "2020-12-13T17:53:23.324371",
     "exception": false,
     "start_time": "2020-12-13T17:53:23.304568",
     "status": "completed"
    },
    "tags": []
   },
   "source": [
    "## 3.\n",
    "What are the minimum and maximum prices for each `variety` of wine? Create a `DataFrame` whose index is the `variety` category from the dataset and whose values are the `min` and `max` values thereof."
   ]
  },
  {
   "cell_type": "code",
   "execution_count": 6,
   "metadata": {
    "execution": {
     "iopub.execute_input": "2020-12-13T17:53:23.369600Z",
     "iopub.status.busy": "2020-12-13T17:53:23.368841Z",
     "iopub.status.idle": "2020-12-13T17:53:23.408906Z",
     "shell.execute_reply": "2020-12-13T17:53:23.408257Z"
    },
    "papermill": {
     "duration": 0.064877,
     "end_time": "2020-12-13T17:53:23.409019",
     "exception": false,
     "start_time": "2020-12-13T17:53:23.344142",
     "status": "completed"
    },
    "tags": []
   },
   "outputs": [
    {
     "data": {
      "application/javascript": [
       "parent.postMessage({\"jupyterEvent\": \"custom.exercise_interaction\", \"data\": {\"outcomeType\": 1, \"valueTowardsCompletion\": 0.16666666666666666, \"interactionType\": 1, \"questionType\": 1, \"questionId\": \"3_PriceExtremes\", \"learnToolsVersion\": \"0.3.4\", \"failureMessage\": \"\", \"exceptionClass\": \"\", \"trace\": \"\"}}, \"*\")"
      ],
      "text/plain": [
       "<IPython.core.display.Javascript object>"
      ]
     },
     "metadata": {},
     "output_type": "display_data"
    },
    {
     "data": {
      "text/markdown": [
       "<span style=\"color:#33cc33\">Correct</span>"
      ],
      "text/plain": [
       "Correct"
      ]
     },
     "metadata": {},
     "output_type": "display_data"
    }
   ],
   "source": [
    "price_extremes = wine_price_extremes = reviews.groupby('variety').price.agg([min, max])\n",
    "wine_price_extremes\n",
    "\n",
    "# Check your answer\n",
    "q3.check()"
   ]
  },
  {
   "cell_type": "code",
   "execution_count": 7,
   "metadata": {
    "execution": {
     "iopub.execute_input": "2020-12-13T17:53:23.455558Z",
     "iopub.status.busy": "2020-12-13T17:53:23.454860Z",
     "iopub.status.idle": "2020-12-13T17:53:23.458200Z",
     "shell.execute_reply": "2020-12-13T17:53:23.457589Z"
    },
    "papermill": {
     "duration": 0.027976,
     "end_time": "2020-12-13T17:53:23.458319",
     "exception": false,
     "start_time": "2020-12-13T17:53:23.430343",
     "status": "completed"
    },
    "tags": []
   },
   "outputs": [],
   "source": [
    "#q3.hint()\n",
    "#q3.solution()"
   ]
  },
  {
   "cell_type": "markdown",
   "metadata": {
    "papermill": {
     "duration": 0.021102,
     "end_time": "2020-12-13T17:53:23.500900",
     "exception": false,
     "start_time": "2020-12-13T17:53:23.479798",
     "status": "completed"
    },
    "tags": []
   },
   "source": [
    "## 4.\n",
    "What are the most expensive wine varieties? Create a variable `sorted_varieties` containing a copy of the dataframe from the previous question where varieties are sorted in descending order based on minimum price, then on maximum price (to break ties)."
   ]
  },
  {
   "cell_type": "code",
   "execution_count": 8,
   "metadata": {
    "execution": {
     "iopub.execute_input": "2020-12-13T17:53:23.568624Z",
     "iopub.status.busy": "2020-12-13T17:53:23.567592Z",
     "iopub.status.idle": "2020-12-13T17:53:23.583397Z",
     "shell.execute_reply": "2020-12-13T17:53:23.582770Z"
    },
    "papermill": {
     "duration": 0.061076,
     "end_time": "2020-12-13T17:53:23.583522",
     "exception": false,
     "start_time": "2020-12-13T17:53:23.522446",
     "status": "completed"
    },
    "tags": []
   },
   "outputs": [
    {
     "ename": "NameError",
     "evalue": "name 'check_q4' is not defined",
     "output_type": "error",
     "traceback": [
      "\u001b[0;31m---------------------------------------------------------------------------\u001b[0m",
      "\u001b[0;31mNameError\u001b[0m                                 Traceback (most recent call last)",
      "\u001b[0;32m<ipython-input-8-38cb6cade2dc>\u001b[0m in \u001b[0;36m<module>\u001b[0;34m\u001b[0m\n\u001b[1;32m      3\u001b[0m \u001b[0;34m\u001b[0m\u001b[0m\n\u001b[1;32m      4\u001b[0m \u001b[0;31m# Check your answer\u001b[0m\u001b[0;34m\u001b[0m\u001b[0;34m\u001b[0m\u001b[0;34m\u001b[0m\u001b[0m\n\u001b[0;32m----> 5\u001b[0;31m \u001b[0mcheck_q4\u001b[0m\u001b[0;34m(\u001b[0m\u001b[0mreviewer_mean_ratings\u001b[0m\u001b[0;34m)\u001b[0m\u001b[0;34m\u001b[0m\u001b[0;34m\u001b[0m\u001b[0m\n\u001b[0m",
      "\u001b[0;31mNameError\u001b[0m: name 'check_q4' is not defined"
     ]
    }
   ],
   "source": [
    "reviewer_mean_ratings = reviews.groupby('taster_name').points.mean()\n",
    "reviewer_mean_ratings\n",
    "\n",
    "# Check your answer\n",
    "check_q4(reviewer_mean_ratings)"
   ]
  },
  {
   "cell_type": "code",
   "execution_count": 9,
   "metadata": {
    "execution": {
     "iopub.execute_input": "2020-12-13T17:53:23.632648Z",
     "iopub.status.busy": "2020-12-13T17:53:23.631604Z",
     "iopub.status.idle": "2020-12-13T17:53:23.634217Z",
     "shell.execute_reply": "2020-12-13T17:53:23.634747Z"
    },
    "papermill": {
     "duration": 0.02925,
     "end_time": "2020-12-13T17:53:23.634888",
     "exception": false,
     "start_time": "2020-12-13T17:53:23.605638",
     "status": "completed"
    },
    "tags": []
   },
   "outputs": [],
   "source": [
    "#q4.hint()\n",
    "#q4.solution()"
   ]
  },
  {
   "cell_type": "markdown",
   "metadata": {
    "papermill": {
     "duration": 0.021911,
     "end_time": "2020-12-13T17:53:23.679234",
     "exception": false,
     "start_time": "2020-12-13T17:53:23.657323",
     "status": "completed"
    },
    "tags": []
   },
   "source": [
    "## 5.\n",
    "Create a `Series` whose index is reviewers and whose values is the average review score given out by that reviewer. Hint: you will need the `taster_name` and `points` columns."
   ]
  },
  {
   "cell_type": "code",
   "execution_count": 10,
   "metadata": {
    "execution": {
     "iopub.execute_input": "2020-12-13T17:53:23.729524Z",
     "iopub.status.busy": "2020-12-13T17:53:23.728413Z",
     "iopub.status.idle": "2020-12-13T17:53:23.733077Z",
     "shell.execute_reply": "2020-12-13T17:53:23.732415Z"
    },
    "papermill": {
     "duration": 0.031699,
     "end_time": "2020-12-13T17:53:23.733226",
     "exception": false,
     "start_time": "2020-12-13T17:53:23.701527",
     "status": "completed"
    },
    "tags": []
   },
   "outputs": [
    {
     "ename": "SyntaxError",
     "evalue": "invalid syntax (<ipython-input-10-283c1607e95d>, line 5)",
     "output_type": "error",
     "traceback": [
      "\u001b[0;36m  File \u001b[0;32m\"<ipython-input-10-283c1607e95d>\"\u001b[0;36m, line \u001b[0;32m5\u001b[0m\n\u001b[0;31m    q5.check()reviewer_mean_ratings\u001b[0m\n\u001b[0m                                  ^\u001b[0m\n\u001b[0;31mSyntaxError\u001b[0m\u001b[0;31m:\u001b[0m invalid syntax\n"
     ]
    }
   ],
   "source": [
    " reviewer_mean_ratings = reviews.groupby('taster_name').points.mean()\n",
    "\n",
    "\n",
    "# Check your answer\n",
    "q5.check()reviewer_mean_ratings"
   ]
  },
  {
   "cell_type": "code",
   "execution_count": 11,
   "metadata": {
    "execution": {
     "iopub.execute_input": "2020-12-13T17:53:23.782757Z",
     "iopub.status.busy": "2020-12-13T17:53:23.782042Z",
     "iopub.status.idle": "2020-12-13T17:53:23.786625Z",
     "shell.execute_reply": "2020-12-13T17:53:23.786034Z"
    },
    "papermill": {
     "duration": 0.030706,
     "end_time": "2020-12-13T17:53:23.786751",
     "exception": false,
     "start_time": "2020-12-13T17:53:23.756045",
     "status": "completed"
    },
    "tags": []
   },
   "outputs": [],
   "source": [
    "#q5.hint()\n",
    "#q5.solution()"
   ]
  },
  {
   "cell_type": "markdown",
   "metadata": {
    "papermill": {
     "duration": 0.022616,
     "end_time": "2020-12-13T17:53:23.832468",
     "exception": false,
     "start_time": "2020-12-13T17:53:23.809852",
     "status": "completed"
    },
    "tags": []
   },
   "source": [
    "Are there significant differences in the average scores assigned by the various reviewers? Run the cell below to use the `describe()` method to see a summary of the range of values."
   ]
  },
  {
   "cell_type": "code",
   "execution_count": 12,
   "metadata": {
    "execution": {
     "iopub.execute_input": "2020-12-13T17:53:23.884966Z",
     "iopub.status.busy": "2020-12-13T17:53:23.884109Z",
     "iopub.status.idle": "2020-12-13T17:53:23.893440Z",
     "shell.execute_reply": "2020-12-13T17:53:23.892795Z"
    },
    "papermill": {
     "duration": 0.037949,
     "end_time": "2020-12-13T17:53:23.893567",
     "exception": false,
     "start_time": "2020-12-13T17:53:23.855618",
     "status": "completed"
    },
    "tags": []
   },
   "outputs": [
    {
     "data": {
      "text/plain": [
       "count    19.000000\n",
       "mean     88.233026\n",
       "std       1.243610\n",
       "min      85.855422\n",
       "25%      87.323501\n",
       "50%      88.536235\n",
       "75%      88.975256\n",
       "max      90.562551\n",
       "Name: points, dtype: float64"
      ]
     },
     "execution_count": 12,
     "metadata": {},
     "output_type": "execute_result"
    }
   ],
   "source": [
    "reviewer_mean_ratings.describe()"
   ]
  },
  {
   "cell_type": "markdown",
   "metadata": {
    "papermill": {
     "duration": 0.023437,
     "end_time": "2020-12-13T17:53:23.940602",
     "exception": false,
     "start_time": "2020-12-13T17:53:23.917165",
     "status": "completed"
    },
    "tags": []
   },
   "source": [
    "## 6.\n",
    "What combination of countries and varieties are most common? Create a `Series` whose index is a `MultiIndex`of `{country, variety}` pairs. For example, a pinot noir produced in the US should map to `{\"US\", \"Pinot Noir\"}`. Sort the values in the `Series` in descending order based on wine count."
   ]
  },
  {
   "cell_type": "code",
   "execution_count": 13,
   "metadata": {
    "execution": {
     "iopub.execute_input": "2020-12-13T17:53:23.994884Z",
     "iopub.status.busy": "2020-12-13T17:53:23.993832Z",
     "iopub.status.idle": "2020-12-13T17:53:23.998985Z",
     "shell.execute_reply": "2020-12-13T17:53:23.997870Z"
    },
    "papermill": {
     "duration": 0.034476,
     "end_time": "2020-12-13T17:53:23.999160",
     "exception": false,
     "start_time": "2020-12-13T17:53:23.964684",
     "status": "completed"
    },
    "tags": []
   },
   "outputs": [
    {
     "ename": "SyntaxError",
     "evalue": "invalid syntax (<ipython-input-13-6fee3d5269e9>, line 7)",
     "output_type": "error",
     "traceback": [
      "\u001b[0;36m  File \u001b[0;32m\"<ipython-input-13-6fee3d5269e9>\"\u001b[0;36m, line \u001b[0;32m7\u001b[0m\n\u001b[0;31m    q6.check()country_variety_counts\u001b[0m\n\u001b[0m                                   ^\u001b[0m\n\u001b[0;31mSyntaxError\u001b[0m\u001b[0;31m:\u001b[0m invalid syntax\n"
     ]
    }
   ],
   "source": [
    "country_variety_counts = reviews['n'] = 0\n",
    "country_variety_pairs = reviews.groupby(['country', 'variety']).n.count().sort_values(ascending=False)\n",
    "country_variety_pairs\n",
    "       \n",
    "\n",
    "# Check your answer\n",
    "q6.check()country_variety_counts "
   ]
  },
  {
   "cell_type": "code",
   "execution_count": 14,
   "metadata": {
    "execution": {
     "iopub.execute_input": "2020-12-13T17:53:24.052972Z",
     "iopub.status.busy": "2020-12-13T17:53:24.052226Z",
     "iopub.status.idle": "2020-12-13T17:53:24.055318Z",
     "shell.execute_reply": "2020-12-13T17:53:24.054575Z"
    },
    "papermill": {
     "duration": 0.031039,
     "end_time": "2020-12-13T17:53:24.055447",
     "exception": false,
     "start_time": "2020-12-13T17:53:24.024408",
     "status": "completed"
    },
    "tags": []
   },
   "outputs": [],
   "source": [
    "#q6.hint()\n",
    "#q6.solution()"
   ]
  },
  {
   "cell_type": "markdown",
   "metadata": {
    "papermill": {
     "duration": 0.024485,
     "end_time": "2020-12-13T17:53:24.104489",
     "exception": false,
     "start_time": "2020-12-13T17:53:24.080004",
     "status": "completed"
    },
    "tags": []
   },
   "source": [
    "# Keep going\n",
    "\n",
    "Move on to the [**data types and missing data**](https://www.kaggle.com/residentmario/data-types-and-missing-values)."
   ]
  },
  {
   "cell_type": "markdown",
   "metadata": {
    "papermill": {
     "duration": 0.024283,
     "end_time": "2020-12-13T17:53:24.153336",
     "exception": false,
     "start_time": "2020-12-13T17:53:24.129053",
     "status": "completed"
    },
    "tags": []
   },
   "source": [
    "---\n",
    "\n",
    "\n",
    "\n",
    "\n",
    "*Have questions or comments? Visit the [Learn Discussion forum](https://www.kaggle.com/learn-forum/161299) to chat with other Learners.*"
   ]
  }
 ],
 "metadata": {
  "kernelspec": {
   "display_name": "Python 3",
   "language": "python",
   "name": "python3"
  },
  "language_info": {
   "codemirror_mode": {
    "name": "ipython",
    "version": 3
   },
   "file_extension": ".py",
   "mimetype": "text/x-python",
   "name": "python",
   "nbconvert_exporter": "python",
   "pygments_lexer": "ipython3",
   "version": "3.7.6"
  },
  "papermill": {
   "duration": 8.769787,
   "end_time": "2020-12-13T17:53:24.284713",
   "environment_variables": {},
   "exception": null,
   "input_path": "__notebook__.ipynb",
   "output_path": "__notebook__.ipynb",
   "parameters": {},
   "start_time": "2020-12-13T17:53:15.514926",
   "version": "2.1.0"
  }
 },
 "nbformat": 4,
 "nbformat_minor": 4
}
