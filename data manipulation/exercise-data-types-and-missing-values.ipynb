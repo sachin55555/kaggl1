{
 "cells": [
  {
   "cell_type": "markdown",
   "metadata": {
    "papermill": {
     "duration": 0.013852,
     "end_time": "2020-12-13T19:52:15.298962",
     "exception": false,
     "start_time": "2020-12-13T19:52:15.285110",
     "status": "completed"
    },
    "tags": []
   },
   "source": [
    "**This notebook is an exercise in the [Pandas](https://www.kaggle.com/learn/pandas) course.  You can reference the tutorial at [this link](https://www.kaggle.com/residentmario/data-types-and-missing-values).**\n",
    "\n",
    "---\n"
   ]
  },
  {
   "cell_type": "markdown",
   "metadata": {
    "papermill": {
     "duration": 0.01059,
     "end_time": "2020-12-13T19:52:15.320678",
     "exception": false,
     "start_time": "2020-12-13T19:52:15.310088",
     "status": "completed"
    },
    "tags": []
   },
   "source": [
    "# Introduction\n",
    "\n",
    "Run the following cell to load your data and some utility functions."
   ]
  },
  {
   "cell_type": "code",
   "execution_count": 1,
   "metadata": {
    "execution": {
     "iopub.execute_input": "2020-12-13T19:52:15.353329Z",
     "iopub.status.busy": "2020-12-13T19:52:15.352474Z",
     "iopub.status.idle": "2020-12-13T19:52:18.226018Z",
     "shell.execute_reply": "2020-12-13T19:52:18.226587Z"
    },
    "papermill": {
     "duration": 2.895238,
     "end_time": "2020-12-13T19:52:18.226792",
     "exception": false,
     "start_time": "2020-12-13T19:52:15.331554",
     "status": "completed"
    },
    "tags": []
   },
   "outputs": [
    {
     "name": "stdout",
     "output_type": "stream",
     "text": [
      "Setup complete.\n"
     ]
    }
   ],
   "source": [
    "import pandas as pd\n",
    "\n",
    "reviews = pd.read_csv(\"../input/wine-reviews/winemag-data-130k-v2.csv\", index_col=0)\n",
    "\n",
    "from learntools.core import binder; binder.bind(globals())\n",
    "from learntools.pandas.data_types_and_missing_data import *\n",
    "print(\"Setup complete.\")"
   ]
  },
  {
   "cell_type": "markdown",
   "metadata": {
    "papermill": {
     "duration": 0.011274,
     "end_time": "2020-12-13T19:52:18.250296",
     "exception": false,
     "start_time": "2020-12-13T19:52:18.239022",
     "status": "completed"
    },
    "tags": []
   },
   "source": [
    "# Exercises"
   ]
  },
  {
   "cell_type": "markdown",
   "metadata": {
    "papermill": {
     "duration": 0.011063,
     "end_time": "2020-12-13T19:52:18.272914",
     "exception": false,
     "start_time": "2020-12-13T19:52:18.261851",
     "status": "completed"
    },
    "tags": []
   },
   "source": [
    "## 1. \n",
    "What is the data type of the `points` column in the dataset?"
   ]
  },
  {
   "cell_type": "code",
   "execution_count": 2,
   "metadata": {
    "execution": {
     "iopub.execute_input": "2020-12-13T19:52:18.305294Z",
     "iopub.status.busy": "2020-12-13T19:52:18.304311Z",
     "iopub.status.idle": "2020-12-13T19:52:18.311742Z",
     "shell.execute_reply": "2020-12-13T19:52:18.311061Z"
    },
    "papermill": {
     "duration": 0.026693,
     "end_time": "2020-12-13T19:52:18.311866",
     "exception": false,
     "start_time": "2020-12-13T19:52:18.285173",
     "status": "completed"
    },
    "tags": []
   },
   "outputs": [
    {
     "data": {
      "application/javascript": [
       "parent.postMessage({\"jupyterEvent\": \"custom.exercise_interaction\", \"data\": {\"outcomeType\": 1, \"valueTowardsCompletion\": 0.25, \"interactionType\": 1, \"questionType\": 1, \"questionId\": \"1_PointsDtype\", \"learnToolsVersion\": \"0.3.4\", \"failureMessage\": \"\", \"exceptionClass\": \"\", \"trace\": \"\"}}, \"*\")"
      ],
      "text/plain": [
       "<IPython.core.display.Javascript object>"
      ]
     },
     "metadata": {},
     "output_type": "display_data"
    },
    {
     "data": {
      "text/markdown": [
       "<span style=\"color:#33cc33\">Correct</span>"
      ],
      "text/plain": [
       "Correct"
      ]
     },
     "metadata": {},
     "output_type": "display_data"
    }
   ],
   "source": [
    "# Your code here\n",
    "dtype = reviews.points.dtype\n",
    "# Check your answer\n",
    "q1.check()"
   ]
  },
  {
   "cell_type": "code",
   "execution_count": 3,
   "metadata": {
    "execution": {
     "iopub.execute_input": "2020-12-13T19:52:18.343313Z",
     "iopub.status.busy": "2020-12-13T19:52:18.342365Z",
     "iopub.status.idle": "2020-12-13T19:52:18.345862Z",
     "shell.execute_reply": "2020-12-13T19:52:18.345321Z"
    },
    "papermill": {
     "duration": 0.021206,
     "end_time": "2020-12-13T19:52:18.346055",
     "exception": false,
     "start_time": "2020-12-13T19:52:18.324849",
     "status": "completed"
    },
    "tags": []
   },
   "outputs": [],
   "source": [
    "#q1.hint()\n",
    "#q1.solution()"
   ]
  },
  {
   "cell_type": "markdown",
   "metadata": {
    "papermill": {
     "duration": 0.014077,
     "end_time": "2020-12-13T19:52:18.373325",
     "exception": false,
     "start_time": "2020-12-13T19:52:18.359248",
     "status": "completed"
    },
    "tags": []
   },
   "source": [
    "## 2. \n",
    "Create a Series from entries in the `points` column, but convert the entries to strings. Hint: strings are `str` in native Python."
   ]
  },
  {
   "cell_type": "code",
   "execution_count": 4,
   "metadata": {
    "execution": {
     "iopub.execute_input": "2020-12-13T19:52:18.406782Z",
     "iopub.status.busy": "2020-12-13T19:52:18.405604Z",
     "iopub.status.idle": "2020-12-13T19:52:18.586026Z",
     "shell.execute_reply": "2020-12-13T19:52:18.585343Z"
    },
    "papermill": {
     "duration": 0.199575,
     "end_time": "2020-12-13T19:52:18.586163",
     "exception": false,
     "start_time": "2020-12-13T19:52:18.386588",
     "status": "completed"
    },
    "tags": []
   },
   "outputs": [
    {
     "data": {
      "application/javascript": [
       "parent.postMessage({\"jupyterEvent\": \"custom.exercise_interaction\", \"data\": {\"outcomeType\": 1, \"valueTowardsCompletion\": 0.25, \"interactionType\": 1, \"questionType\": 1, \"questionId\": \"2_StrPoints\", \"learnToolsVersion\": \"0.3.4\", \"failureMessage\": \"\", \"exceptionClass\": \"\", \"trace\": \"\"}}, \"*\")"
      ],
      "text/plain": [
       "<IPython.core.display.Javascript object>"
      ]
     },
     "metadata": {},
     "output_type": "display_data"
    },
    {
     "data": {
      "text/markdown": [
       "<span style=\"color:#33cc33\">Correct</span>"
      ],
      "text/plain": [
       "Correct"
      ]
     },
     "metadata": {},
     "output_type": "display_data"
    }
   ],
   "source": [
    "point_strings = reviews.points.astype('str')\n",
    "\n",
    "# Check your answer\n",
    "q2.check()"
   ]
  },
  {
   "cell_type": "code",
   "execution_count": 5,
   "metadata": {
    "execution": {
     "iopub.execute_input": "2020-12-13T19:52:18.620226Z",
     "iopub.status.busy": "2020-12-13T19:52:18.619516Z",
     "iopub.status.idle": "2020-12-13T19:52:18.622934Z",
     "shell.execute_reply": "2020-12-13T19:52:18.622416Z"
    },
    "papermill": {
     "duration": 0.022383,
     "end_time": "2020-12-13T19:52:18.623080",
     "exception": false,
     "start_time": "2020-12-13T19:52:18.600697",
     "status": "completed"
    },
    "tags": []
   },
   "outputs": [],
   "source": [
    "#q2.hint()\n",
    "#q2.solution()"
   ]
  },
  {
   "cell_type": "markdown",
   "metadata": {
    "papermill": {
     "duration": 0.014172,
     "end_time": "2020-12-13T19:52:18.651597",
     "exception": false,
     "start_time": "2020-12-13T19:52:18.637425",
     "status": "completed"
    },
    "tags": []
   },
   "source": [
    "## 3.\n",
    "Sometimes the price column is null. How many reviews in the dataset are missing a price?"
   ]
  },
  {
   "cell_type": "code",
   "execution_count": 6,
   "metadata": {
    "execution": {
     "iopub.execute_input": "2020-12-13T19:52:18.686842Z",
     "iopub.status.busy": "2020-12-13T19:52:18.685762Z",
     "iopub.status.idle": "2020-12-13T19:52:18.692456Z",
     "shell.execute_reply": "2020-12-13T19:52:18.691845Z"
    },
    "papermill": {
     "duration": 0.026913,
     "end_time": "2020-12-13T19:52:18.692569",
     "exception": false,
     "start_time": "2020-12-13T19:52:18.665656",
     "status": "completed"
    },
    "tags": []
   },
   "outputs": [
    {
     "data": {
      "application/javascript": [
       "parent.postMessage({\"jupyterEvent\": \"custom.exercise_interaction\", \"data\": {\"outcomeType\": 1, \"valueTowardsCompletion\": 0.25, \"interactionType\": 1, \"questionType\": 1, \"questionId\": \"3_CountMissingPrices\", \"learnToolsVersion\": \"0.3.4\", \"failureMessage\": \"\", \"exceptionClass\": \"\", \"trace\": \"\"}}, \"*\")"
      ],
      "text/plain": [
       "<IPython.core.display.Javascript object>"
      ]
     },
     "metadata": {},
     "output_type": "display_data"
    },
    {
     "data": {
      "text/markdown": [
       "<span style=\"color:#33cc33\">Correct</span>"
      ],
      "text/plain": [
       "Correct"
      ]
     },
     "metadata": {},
     "output_type": "display_data"
    }
   ],
   "source": [
    "n_missing_prices = reviews.index.dtype\n",
    "\n",
    "# Check your answer\n",
    "q3.check()"
   ]
  },
  {
   "cell_type": "code",
   "execution_count": 7,
   "metadata": {
    "execution": {
     "iopub.execute_input": "2020-12-13T19:52:18.728714Z",
     "iopub.status.busy": "2020-12-13T19:52:18.727623Z",
     "iopub.status.idle": "2020-12-13T19:52:18.731725Z",
     "shell.execute_reply": "2020-12-13T19:52:18.731154Z"
    },
    "papermill": {
     "duration": 0.02401,
     "end_time": "2020-12-13T19:52:18.731850",
     "exception": false,
     "start_time": "2020-12-13T19:52:18.707840",
     "status": "completed"
    },
    "tags": []
   },
   "outputs": [],
   "source": [
    "#q3.hint()\n",
    "#q3.solution()"
   ]
  },
  {
   "cell_type": "markdown",
   "metadata": {
    "papermill": {
     "duration": 0.014869,
     "end_time": "2020-12-13T19:52:18.762118",
     "exception": false,
     "start_time": "2020-12-13T19:52:18.747249",
     "status": "completed"
    },
    "tags": []
   },
   "source": [
    "## 4.\n",
    "What are the most common wine-producing regions? Create a Series counting the number of times each value occurs in the `region_1` field. This field is often missing data, so replace missing values with `Unknown`. Sort in descending order.  Your output should look something like this:\n",
    "\n",
    "```\n",
    "Unknown                    21247\n",
    "Napa Valley                 4480\n",
    "                           ...  \n",
    "Bardolino Superiore            1\n",
    "Primitivo del Tarantino        1\n",
    "Name: region_1, Length: 1230, dtype: int64\n",
    "```"
   ]
  },
  {
   "cell_type": "code",
   "execution_count": 8,
   "metadata": {
    "execution": {
     "iopub.execute_input": "2020-12-13T19:52:18.797052Z",
     "iopub.status.busy": "2020-12-13T19:52:18.796320Z",
     "iopub.status.idle": "2020-12-13T19:52:18.898738Z",
     "shell.execute_reply": "2020-12-13T19:52:18.899279Z"
    },
    "papermill": {
     "duration": 0.122156,
     "end_time": "2020-12-13T19:52:18.899482",
     "exception": false,
     "start_time": "2020-12-13T19:52:18.777326",
     "status": "completed"
    },
    "tags": []
   },
   "outputs": [
    {
     "data": {
      "application/javascript": [
       "parent.postMessage({\"jupyterEvent\": \"custom.exercise_interaction\", \"data\": {\"outcomeType\": 1, \"valueTowardsCompletion\": 0.25, \"interactionType\": 1, \"questionType\": 2, \"questionId\": \"4_ReviewsPerRegion\", \"learnToolsVersion\": \"0.3.4\", \"failureMessage\": \"\", \"exceptionClass\": \"\", \"trace\": \"\"}}, \"*\")"
      ],
      "text/plain": [
       "<IPython.core.display.Javascript object>"
      ]
     },
     "metadata": {},
     "output_type": "display_data"
    },
    {
     "data": {
      "text/markdown": [
       "<span style=\"color:#33cc33\">Correct</span>"
      ],
      "text/plain": [
       "Correct"
      ]
     },
     "metadata": {},
     "output_type": "display_data"
    }
   ],
   "source": [
    "reviews_per_region = reviews.region_1.fillna(\"Unknown\").value_counts().sort_values(ascending=False)\n",
    "                                      \n",
    "\n",
    "# Check your answer\n",
    "q4.check()"
   ]
  },
  {
   "cell_type": "code",
   "execution_count": 9,
   "metadata": {
    "execution": {
     "iopub.execute_input": "2020-12-13T19:52:18.937219Z",
     "iopub.status.busy": "2020-12-13T19:52:18.936495Z",
     "iopub.status.idle": "2020-12-13T19:52:18.939560Z",
     "shell.execute_reply": "2020-12-13T19:52:18.940102Z"
    },
    "papermill": {
     "duration": 0.023893,
     "end_time": "2020-12-13T19:52:18.940270",
     "exception": false,
     "start_time": "2020-12-13T19:52:18.916377",
     "status": "completed"
    },
    "tags": []
   },
   "outputs": [],
   "source": [
    "#q4.hint()\n",
    "#q4.solution()"
   ]
  },
  {
   "cell_type": "markdown",
   "metadata": {
    "papermill": {
     "duration": 0.016833,
     "end_time": "2020-12-13T19:52:18.974608",
     "exception": false,
     "start_time": "2020-12-13T19:52:18.957775",
     "status": "completed"
    },
    "tags": []
   },
   "source": [
    "# Keep going\n",
    "\n",
    "Move on to **[renaming and combining](https://www.kaggle.com/residentmario/renaming-and-combining)**."
   ]
  },
  {
   "cell_type": "markdown",
   "metadata": {
    "papermill": {
     "duration": 0.016983,
     "end_time": "2020-12-13T19:52:19.008793",
     "exception": false,
     "start_time": "2020-12-13T19:52:18.991810",
     "status": "completed"
    },
    "tags": []
   },
   "source": [
    "---\n",
    "\n",
    "\n",
    "\n",
    "\n",
    "*Have questions or comments? Visit the [Learn Discussion forum](https://www.kaggle.com/learn-forum/161299) to chat with other Learners.*"
   ]
  }
 ],
 "metadata": {
  "kernelspec": {
   "display_name": "Python 3",
   "language": "python",
   "name": "python3"
  },
  "language_info": {
   "codemirror_mode": {
    "name": "ipython",
    "version": 3
   },
   "file_extension": ".py",
   "mimetype": "text/x-python",
   "name": "python",
   "nbconvert_exporter": "python",
   "pygments_lexer": "ipython3",
   "version": "3.7.6"
  },
  "papermill": {
   "duration": 8.713996,
   "end_time": "2020-12-13T19:52:19.134784",
   "environment_variables": {},
   "exception": null,
   "input_path": "__notebook__.ipynb",
   "output_path": "__notebook__.ipynb",
   "parameters": {},
   "start_time": "2020-12-13T19:52:10.420788",
   "version": "2.1.0"
  }
 },
 "nbformat": 4,
 "nbformat_minor": 4
}
